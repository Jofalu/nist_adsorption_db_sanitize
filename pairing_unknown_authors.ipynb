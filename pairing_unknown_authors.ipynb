{
 "cells": [
  {
   "cell_type": "code",
   "execution_count": 2,
   "metadata": {},
   "outputs": [],
   "source": [
    "import json # used for managing the JSON files from API\n",
    "from urllib.request import urlopen # fetch URl of API\n",
    "from pprint import pprint # just for printing values for human use\n",
    "from copy import deepcopy"
   ]
  },
  {
   "cell_type": "code",
   "execution_count": 3,
   "metadata": {},
   "outputs": [],
   "source": [
    "# Loads the papers to json from text file\n",
    "\n",
    "with open(\"./stored_authors/papers.txt\", encoding=\"utf8\") as papers_file:\n",
    "    papers = eval(papers_file.read())"
   ]
  },
  {
   "cell_type": "code",
   "execution_count": 4,
   "metadata": {},
   "outputs": [],
   "source": [
    "authors_ids = {}\n",
    "with open(\"./stored_authors/authors_ids.txt\", encoding=\"utf8\") as authors_file:\n",
    "    authors_ids = eval(authors_file.read())\n",
    "# pprint(authors_ids)"
   ]
  },
  {
   "cell_type": "code",
   "execution_count": 5,
   "metadata": {},
   "outputs": [
    {
     "name": "stdout",
     "output_type": "stream",
     "text": [
      "{'DOI': '10.1002/adem.200500223',\n",
      " 'authors': ['75dc757852ded186f04bf13eae66c53803db5c82',\n",
      "             '25e2798b6f1c8d5ca03eda52e347d33da845514f',\n",
      "             '95f1bf7d79db23a55c6d8c155ecb3a6c2ec533ca',\n",
      "             '7653e3bbcd863a9e7e7e142c07df15292a347874',\n",
      "             '979826cedb64012e6ac7dd2787fcea904501fddc',\n",
      "             '8e693fc4e5de76ff86bafd4577f7cd7a8556f74c'],\n",
      " 'journal': 'Advanced Engineering Materials',\n",
      " 'title': 'Improved Hydrogen Storage in the Metal-Organic Framework Cu3(BTC)2'}\n"
     ]
    }
   ],
   "source": [
    "pprint(papers[0])"
   ]
  },
  {
   "cell_type": "code",
   "execution_count": 6,
   "metadata": {},
   "outputs": [],
   "source": [
    "duplicate_authors = {}\n",
    "with open(\"./stored_authors/duplicate_authors.txt\") as dup_file:\n",
    "    duplicate_authors = eval(dup_file.read())"
   ]
  },
  {
   "cell_type": "code",
   "execution_count": 7,
   "metadata": {},
   "outputs": [],
   "source": [
    "unknown_authors = {}\n",
    "with open(\"./stored_authors/unknown_authors.txt\") as unk_file:\n",
    "    unknown_authors = eval(unk_file.read())"
   ]
  },
  {
   "cell_type": "code",
   "execution_count": 15,
   "metadata": {},
   "outputs": [],
   "source": [
    "# Initializes the author/paper dict\n",
    "\n",
    "authors_and_papers = {}\n",
    "for unknown, pairs in unknown_authors.items():\n",
    "    authors_and_papers[unknown] = []\n",
    "    for person in pairs:\n",
    "        authors_and_papers[person] = []\n",
    "\n",
    "for duplicates in duplicate_authors.values():\n",
    "    for person in duplicates:\n",
    "        authors_and_papers[person] = []\n",
    "# pprint(authors_and_papers)\n",
    "\n",
    "# Iterates through people in dict\n",
    "for person in authors_and_papers:\n",
    "    # Iterates through papers \n",
    "    for paper in papers:\n",
    "        # Checks if author is in the paper's authors\n",
    "        if person in paper[\"authors\"]:\n",
    "            # Appends paper's doi to dict\n",
    "            authors_and_papers[person].append(paper[\"DOI\"])"
   ]
  },
  {
   "cell_type": "code",
   "execution_count": 17,
   "metadata": {},
   "outputs": [],
   "source": [
    "with open(\"./stored_authors/authors_and_papers.txt\", \"w\") as aap_file:\n",
    "    pprint(authors_and_papers, stream = aap_file)"
   ]
  },
  {
   "cell_type": "code",
   "execution_count": 18,
   "metadata": {},
   "outputs": [
    {
     "name": "stdout",
     "output_type": "stream",
     "text": [
      "7503b6abae017e2737d965bbf1934171c2807c2a\n",
      "ORC_ID1234567890\n",
      "98b38f5edac387203dd032a4f00d5c2d320d8089\n",
      "a8edbbc18b7813b0e0689b0fdb91a55b836ad29b\n",
      "d46430ecd7649214240c6ea8c0124244373df0ba\n"
     ]
    }
   ],
   "source": [
    "# Authors not associated with any papers\n",
    "\n",
    "for author, papers in authors_and_papers.items():\n",
    "    if len(papers) == 0:\n",
    "        print(author)"
   ]
  }
 ],
 "metadata": {
  "kernelspec": {
   "display_name": "Python 3",
   "language": "python",
   "name": "python3"
  },
  "language_info": {
   "codemirror_mode": {
    "name": "ipython",
    "version": 3
   },
   "file_extension": ".py",
   "mimetype": "text/x-python",
   "name": "python",
   "nbconvert_exporter": "python",
   "pygments_lexer": "ipython3",
   "version": "3.7.3"
  }
 },
 "nbformat": 4,
 "nbformat_minor": 2
}

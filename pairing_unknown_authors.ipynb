{
 "cells": [
  {
   "cell_type": "code",
   "execution_count": 1,
   "metadata": {},
   "outputs": [],
   "source": [
    "import json # used for managing the JSON files from API\n",
    "from urllib.request import urlopen # fetch URl of API\n",
    "from pprint import pprint # just for printing values for human use"
   ]
  },
  {
   "cell_type": "code",
   "execution_count": 2,
   "metadata": {},
   "outputs": [],
   "source": [
    "# Loads the papers to json\n",
    "papers = json.load(urlopen(\"http://dirac.nist.gov/adsorption.nist.gov/isodb/api/minimalbiblio.json\"))"
   ]
  },
  {
   "cell_type": "code",
   "execution_count": 4,
   "metadata": {},
   "outputs": [
    {
     "name": "stdout",
     "output_type": "stream",
     "text": [
      "{'DOI': '10.1002/adem.200500223',\n",
      " 'authors': ['75dc757852ded186f04bf13eae66c53803db5c82',\n",
      "             '25e2798b6f1c8d5ca03eda52e347d33da845514f',\n",
      "             '95f1bf7d79db23a55c6d8c155ecb3a6c2ec533ca',\n",
      "             '7653e3bbcd863a9e7e7e142c07df15292a347874',\n",
      "             '979826cedb64012e6ac7dd2787fcea904501fddc',\n",
      "             '8e693fc4e5de76ff86bafd4577f7cd7a8556f74c'],\n",
      " 'journal': 'Advanced Engineering Materials',\n",
      " 'title': 'Improved Hydrogen Storage in the Metal-Organic Framework Cu3(BTC)2'}\n"
     ]
    }
   ],
   "source": [
    "pprint(papers[0])"
   ]
  },
  {
   "cell_type": "code",
   "execution_count": null,
   "metadata": {},
   "outputs": [],
   "source": []
  }
 ],
 "metadata": {
  "kernelspec": {
   "display_name": "Python 3",
   "language": "python",
   "name": "python3"
  },
  "language_info": {
   "codemirror_mode": {
    "name": "ipython",
    "version": 3
   },
   "file_extension": ".py",
   "mimetype": "text/x-python",
   "name": "python",
   "nbconvert_exporter": "python",
   "pygments_lexer": "ipython3",
   "version": "3.7.3"
  }
 },
 "nbformat": 4,
 "nbformat_minor": 2
}

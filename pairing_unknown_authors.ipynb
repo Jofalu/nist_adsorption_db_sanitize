{
 "cells": [
  {
   "cell_type": "code",
   "execution_count": 1,
   "metadata": {},
   "outputs": [],
   "source": [
    "import json # used for managing the JSON files from API\n",
    "from urllib.request import urlopen # fetch URl of API\n",
    "from pprint import pprint # just for printing values for human use\n",
    "from copy import deepcopy"
   ]
  },
  {
   "cell_type": "code",
   "execution_count": 2,
   "metadata": {},
   "outputs": [],
   "source": [
    "# Loads the papers to json from text file\n",
    "\n",
    "with open(\"./stored_authors/papers.txt\", encoding=\"utf8\") as papers_file:\n",
    "    papers = eval(papers_file.read())"
   ]
  },
  {
   "cell_type": "code",
   "execution_count": 3,
   "metadata": {},
   "outputs": [],
   "source": [
    "authors_ids = {}\n",
    "with open(\"./stored_authors/authors_ids.txt\", encoding=\"utf8\") as authors_file:\n",
    "    authors_ids = eval(authors_file.read())\n",
    "# pprint(authors_ids)"
   ]
  },
  {
   "cell_type": "code",
   "execution_count": 4,
   "metadata": {},
   "outputs": [
    {
     "name": "stdout",
     "output_type": "stream",
     "text": [
      "{'DOI': '10.1002/adem.200500223',\n",
      " 'authors': ['75dc757852ded186f04bf13eae66c53803db5c82',\n",
      "             '25e2798b6f1c8d5ca03eda52e347d33da845514f',\n",
      "             '95f1bf7d79db23a55c6d8c155ecb3a6c2ec533ca',\n",
      "             '7653e3bbcd863a9e7e7e142c07df15292a347874',\n",
      "             '979826cedb64012e6ac7dd2787fcea904501fddc',\n",
      "             '8e693fc4e5de76ff86bafd4577f7cd7a8556f74c'],\n",
      " 'journal': 'Advanced Engineering Materials',\n",
      " 'title': 'Improved Hydrogen Storage in the Metal-Organic Framework Cu3(BTC)2'}\n"
     ]
    }
   ],
   "source": [
    "pprint(papers[0])"
   ]
  },
  {
   "cell_type": "code",
   "execution_count": 17,
   "metadata": {},
   "outputs": [],
   "source": [
    "# for paper in papers:\n",
    "#     if len(paper[\"authors\"]) <= 4:\n",
    "#         pprint(paper)\n",
    "\n",
    "for author in authors_ids:\n",
    "    "
   ]
  },
  {
   "cell_type": "code",
   "execution_count": 5,
   "metadata": {},
   "outputs": [
    {
     "name": "stdout",
     "output_type": "stream",
     "text": [
      "[['P.', '', 'Krawiec'],\n",
      " ['Markus', '', 'Kramer'],\n",
      " ['M.', '', 'Sabo'],\n",
      " ['R.', '', 'Kunschke'],\n",
      " ['Heidrun', '', 'Fröde'],\n",
      " ['Stefan', '', 'Kaskel']]\n"
     ]
    }
   ],
   "source": [
    "# Just for visual clarity, not used for processing\n",
    "\n",
    "papers_with_names = {}\n",
    "for paper in papers:\n",
    "    papers_with_names[ paper[\"DOI\"] ] = []\n",
    "    for person in paper[\"authors\"]:\n",
    "        papers_with_names[ paper[\"DOI\"] ].append(authors_ids[person])\n",
    "pprint(papers_with_names[\"10.1002/adem.200500223\"])"
   ]
  },
  {
   "cell_type": "code",
   "execution_count": 6,
   "metadata": {},
   "outputs": [],
   "source": [
    "duplicate_authors = {}\n",
    "with open(\"./stored_authors/duplicate_authors.txt\") as dup_file:\n",
    "    duplicate_authors = eval(dup_file.read())"
   ]
  },
  {
   "cell_type": "code",
   "execution_count": 7,
   "metadata": {},
   "outputs": [],
   "source": [
    "unknown_authors = {}\n",
    "with open(\"./stored_authors/unknown_authors.txt\") as unk_file:\n",
    "    unknown_authors = eval(unk_file.read())"
   ]
  },
  {
   "cell_type": "code",
   "execution_count": 8,
   "metadata": {},
   "outputs": [],
   "source": [
    "# not sure about this. Generate a coauthors dict? Only for unknown authors for right now\n",
    "\n",
    "coauthors = {}\n",
    "\n",
    "\n",
    "# Iterates through papers \n",
    "for paper in papers:\n",
    "    \n",
    "    # Iterates through authors\n",
    "    for person in paper[\"authors\"]:\n",
    "        if person == \"ORC_ID1234567890\":\n",
    "            print(\"WARNING\")\n",
    "        if person in unknown_authors or any(person in sublist for sublist in unknown_authors.values()): ## [DONE] need to change second part since values() is a list of lists\n",
    "            \n",
    "            # There is some problem here, I don't know what exactly though\n",
    "            \n",
    "            # Creates list if the person doesn't already exist\n",
    "            if not person in coauthors:\n",
    "                coauthors[person] = []\n",
    "                \n",
    "            coauthors[person].extend(paper[\"authors\"])  # Adds all the coauthors to the list\n",
    "            coauthors[person].remove(person)            # Removes the person itself from the coauthors list\n",
    "            \n",
    "# # Iterates through coauthors_list to make all of its lists sets (to remove duplicate coauthors) Should I be doing this?\n",
    "# for person in coauthors:\n",
    "# #     pprint(sorted(coauthor_list))\n",
    "#     coauthors[person] = set(coauthors[person])\n",
    "# #     pprint(coauthor_list)\n",
    "\n",
    "# I probably shouldn't do the above. More duplicates -> higher count -> more probability of being matches?\n",
    "\n",
    "# pprint(coauthors)"
   ]
  },
  {
   "cell_type": "code",
   "execution_count": 9,
   "metadata": {},
   "outputs": [],
   "source": [
    "def find_key(dictionary, val):\n",
    "    for key, value in dictionary.items():\n",
    "        if value == val:\n",
    "            return key\n",
    "    return -1"
   ]
  },
  {
   "cell_type": "code",
   "execution_count": 10,
   "metadata": {},
   "outputs": [],
   "source": [
    "# Testing whether every author is associated with a paper\n",
    "\n",
    "testing = []\n",
    "\n",
    "# for paper in papers:\n",
    "#     for person in paper[\"authors\"]:\n",
    "#         if person in unknown_authors and person in unknown_authors.values():\n",
    "#             testing.add(person)\n",
    "\n",
    "# pprint(unknown_authors.values())\n",
    "\n",
    "# for person in testing:\n",
    "#     pprint(coauthors[person])\n",
    "#     print(\"meep\")\n",
    "# for person in testing:\n",
    "#     pprint(coauthors[person])\n",
    "#     print(\"boop\")\n",
    "    \n",
    "# for person in unknown_authors:\n",
    "#     if person in testing:\n",
    "#         print(\"yes\")\n",
    "#     else: \n",
    "#         print(\"nooooooooooooooooooooooooooooooooooooooooooooooooooo\")\n",
    "        \n",
    "# Lists all listed authors that are in both unknown and potential people i.e. coauthors the two share.\n",
    "# Better method than what I used earlier?\n",
    "# for person in testing:\n",
    "#     if person in unknown_authors and person in unknown_authors.values():\n",
    "#         print(\"yes\")\n",
    "#     else: \n",
    "#         print(\"no\")\n",
    "#         # It seems that no one is in both??\n",
    "\n",
    "# pprint(testing)\n",
    "\n",
    "\n",
    "# Apparently some authors don't feature in a paper? I'm not sure if this is intended. If so, I'm not sure why"
   ]
  },
  {
   "cell_type": "code",
   "execution_count": 11,
   "metadata": {},
   "outputs": [
    {
     "name": "stdout",
     "output_type": "stream",
     "text": [
      "WARNING - 75dc757852ded186f04bf13eae66c53803db5c82\n"
     ]
    }
   ],
   "source": [
    "coauthor_counts = []\n",
    "\n",
    "# Iterates through unknown authors\n",
    "for unknown, matches in unknown_authors.items():\n",
    "    \n",
    "    # Iterates through possible matches for each unknown\n",
    "    for person in matches:\n",
    "        if person == \"ORC_ID1234567890\":\n",
    "            print(\"WARNING - \" + unknown)\n",
    "#         # Checks if the unknown author is in a paper ???\n",
    "#         if unknown in coauthors:\n",
    "            \n",
    "#             # Iterates through coauthors of unknown author\n",
    "#             for unk_coauthor in coauthors[unknown]:\n",
    "                \n",
    "#                 # Checks to make sure that the potential match for the unknown is in the coauthors list \n",
    "                \n",
    "#                 # person in coauthors and \n",
    "#                 if unk_coauthor in coauthors[person]:\n",
    "#                     pprint(coauthors[person])\n",
    "#                     print(\"yes\")\n",
    "                    \n",
    "# Are there people in the database who are not associated with a paper? [SOLVED?] - doesn't seem like it?\n",
    "\n",
    "# 2019-06-14 9:14AM - Seems fixed now, returns more than just a couple of people. Do I still need the if checks?"
   ]
  },
  {
   "cell_type": "code",
   "execution_count": 12,
   "metadata": {},
   "outputs": [],
   "source": [
    "# if \"75dc757852ded186f04bf13eae66c53803db5c82\" in unknown_authors:\n",
    "#     pprint(unknown_authors)"
   ]
  },
  {
   "cell_type": "code",
   "execution_count": 13,
   "metadata": {
    "scrolled": false
   },
   "outputs": [
    {
     "name": "stdout",
     "output_type": "stream",
     "text": [
      "831da78505f36a7f7f27627e3cf7c7ce70f3c814\n",
      "8b80ee24d983f356b3117484ac1a6f9a2e7ce441\n",
      "\n",
      "10.1002/ceat.201300046\n",
      "10.1007/s10450-014-9639-3\n",
      "10.1016/j.ces.2008.07.017\n",
      "10.1016/j.micromeso.2011.06.024\n",
      "10.1016/j.micromeso.2011.12.043\n",
      "10.1016/j.seppur.2012.02.023\n",
      "10.1016/j.seppur.2012.10.009\n",
      "10.1016/j.seppur.2013.03.009\n",
      "10.1016/j.seppur.2015.06.012\n",
      "10.1021/acs.energyfuels.5b00975\n"
     ]
    }
   ],
   "source": [
    "# Test cell\n",
    "\n",
    "for author_id, name in authors_ids.items():\n",
    "    if \"Ribeiro\" in name and \"Ana\" in name:\n",
    "        print(author_id)\n",
    "print()\n",
    "for paper in papers:\n",
    "    if \"8b80ee24d983f356b3117484ac1a6f9a2e7ce441\" in paper[\"authors\"]:\n",
    "        print(paper[\"DOI\"])"
   ]
  },
  {
   "cell_type": "code",
   "execution_count": 14,
   "metadata": {},
   "outputs": [
    {
     "name": "stdout",
     "output_type": "stream",
     "text": [
      "6517995a99763fe7f2bd80ac3a5672518323910f\n",
      "75dc757852ded186f04bf13eae66c53803db5c82\n",
      "ORC_ID1234567890\n",
      "\n",
      "10.1002/adem.200500223\n"
     ]
    }
   ],
   "source": [
    "# Test cell\n",
    "\n",
    "for author_id, name in authors_ids.items():\n",
    "    if \"Krawiec\" in name:\n",
    "        print(author_id)\n",
    "print()\n",
    "for paper in papers:\n",
    "    if \"75dc757852ded186f04bf13eae66c53803db5c82\" in paper[\"authors\"]:\n",
    "        print(paper[\"DOI\"])"
   ]
  }
 ],
 "metadata": {
  "kernelspec": {
   "display_name": "Python 3",
   "language": "python",
   "name": "python3"
  },
  "language_info": {
   "codemirror_mode": {
    "name": "ipython",
    "version": 3
   },
   "file_extension": ".py",
   "mimetype": "text/x-python",
   "name": "python",
   "nbconvert_exporter": "python",
   "pygments_lexer": "ipython3",
   "version": "3.7.3"
  }
 },
 "nbformat": 4,
 "nbformat_minor": 2
}

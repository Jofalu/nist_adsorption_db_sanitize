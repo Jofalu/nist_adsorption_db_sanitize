{
 "cells": [
  {
   "cell_type": "code",
   "execution_count": 42,
   "metadata": {},
   "outputs": [],
   "source": [
    "from pprint import pprint\n",
    "import urllib\n",
    "from bs4 import BeautifulSoup\n",
    "from webdriver_manager.firefox import GeckoDriverManager\n",
    "import time\n",
    "import sys\n",
    "import datetime\n",
    "\n",
    "from selenium import webdriver\n",
    "from selenium.common.exceptions import TimeoutException\n",
    "from selenium.webdriver.firefox.options import Options\n",
    "from selenium.webdriver.support.ui import WebDriverWait\n",
    "from selenium.webdriver.support import expected_conditions as EC\n",
    "from selenium.webdriver.common.by import By"
   ]
  },
  {
   "cell_type": "code",
   "execution_count": 85,
   "metadata": {},
   "outputs": [],
   "source": [
    "# Given a URL string, opens the URL in a headless Firefox instance and returns a reference to the webdriver object\n",
    "\n",
    "def obtain_driver(url):\n",
    "    buttons = []\n",
    "    driver_options = Options()\n",
    "#     driver_options.headless = True\n",
    "    \n",
    "    print(\"\\n\\n*****\" + str(datetime.datetime.now()) + \"*****\")\n",
    "    \n",
    "    driver = webdriver.Firefox(options=driver_options, executable_path=GeckoDriverManager().install())\n",
    "    \n",
    "    # WARNING, THIS IS SPECIFIC TO THIS MACHINE (retrieves the installed uBlock Origin from the Firefox on this computer.) Need a computer-agnostic way.\n",
    "    driver.install_addon(\"~/.mozilla/firefox/f4t6w0s5.default-release/extensions/uBlock0@raymondhill.net.xpi\", temporary=True)\n",
    "\n",
    "    driver.get(url)\n",
    "    \n",
    "    time.sleep(.5)\n",
    "    \n",
    "    return driver"
   ]
  },
  {
   "cell_type": "code",
   "execution_count": 43,
   "metadata": {},
   "outputs": [],
   "source": [
    "# Clicks on element and waits for a page load. driver == webdriver, element == string (class or css_selector), find_elements_by == integer\n",
    "# find_elements_by: 0 for css_selector, 1 for class_name\n",
    "\n",
    "def click_and_wait(driver, element, find_elements_by):\n",
    "    old_driver = driver.find_element_by_tag_name('html')\n",
    "    \n",
    "    WebDriverWait(driver, 10).until(EC.staleness_of(old_driver))\n",
    "    \n",
    "    try:\n",
    "        if find_elements_by == 0:\n",
    "            button = driver.find_element_by_css_selector(element)\n",
    "        else:\n",
    "            button = driver.find_element_by_class_name(element)\n",
    "            \n",
    "        driver.execute_script(\"arguments[0].click()\", button)\n",
    "    except:\n",
    "        print(\"No button\")"
   ]
  },
  {
   "cell_type": "code",
   "execution_count": 93,
   "metadata": {},
   "outputs": [],
   "source": [
    "# Given a DOI, uses obtain_driver to open up the search site and search the DOI to open up the paper in the page. Returns the webdriver associated with it.\n",
    "\n",
    "def search_paper(doi, driver, doi_urls):\n",
    "    if \"www.researchgate.net/search\" in driver.current_url:\n",
    "        search_input = \"search-form__input\"\n",
    "        search_button = \"search-form__left-button\"\n",
    "    else:\n",
    "        search_input = \"lite-page__header-search-input\"\n",
    "        search_button = \"lite-page__header-search-button\"\n",
    "    \n",
    "    print(\"\\n---\" + \"New search \" + str(datetime.datetime.now()) + \"---\")\n",
    "    print(\"DOI: \" + doi)y\n",
    "    \n",
    "    \n",
    "    search_field_list = driver.find_element_by_class_name(search_input)\n",
    "    time.sleep(.25) # added for stability\n",
    "    search_field = search_field_list\n",
    "    time.sleep(.25)\n",
    "    search_field.clear()\n",
    "    time.sleep(.25)\n",
    "    search_field.send_keys(doi)\n",
    "    \n",
    "    enter_field = driver.find_element_by_class_name(search_button)\n",
    "    driver.execute_script(\"arguments[0].click()\", enter_field)\n",
    "  \n",
    "    click_and_wait(driver, \"a[href*='search/data']\", 0)\n",
    "\n",
    "    time.sleep(.5)\n",
    "    \n",
    "    if \"www.researchgate.net/search\" in driver.current_url:\n",
    "        print(\"Paper not found (search)\")\n",
    "        \n",
    "        return None\n",
    "    else: \n",
    "        print(\"Success\")\n",
    "        doi_urls[doi] = driver.current_url\n",
    "        \n",
    "        return driver"
   ]
  },
  {
   "cell_type": "code",
   "execution_count": 69,
   "metadata": {},
   "outputs": [
    {
     "name": "stdout",
     "output_type": "stream",
     "text": [
      "\n",
      "\n",
      "*****2019-06-24 10:59:09.035501*****\n",
      "\n",
      "Checking for linux64 geckodriver:v0.24.0 in cache\n",
      "Driver found in /home/local/NIST/jfl2/.wdm/geckodriver/v0.24.0/linux64/geckodriver\n",
      "https://www.researchgate.net/profile/Juliana_Coelho5\n",
      "https://www.researchgate.net/profile/Ana_Ribeiro25\n",
      "https://www.researchgate.net/profile/Alexandre_Ferreira4\n",
      "https://www.researchgate.net/scientific-contributions/2082644774_Sebastiao_MP_Lucena\n",
      "https://www.researchgate.net/profile/Alirio_Rodrigues\n",
      "https://www.researchgate.net/profile/Diana_Azevedo\n"
     ]
    }
   ],
   "source": [
    "# Testing click_and_wait\n",
    "\n",
    "driver = obtain_driver(\"https://www.researchgate.net/search\")\n",
    "# time.sleep(1)\n",
    "\n",
    "search_field_list = driver.find_element_by_class_name(\"search-form__input\")\n",
    "time.sleep(.5) # added for stability\n",
    "search_field = search_field_list\n",
    "time.sleep(.5)\n",
    "search_field.clear()\n",
    "time.sleep(.5)\n",
    "search_field.send_keys(\"10.1021/acs.iecr.5b03509\")\n",
    "\n",
    "enter_field = driver.find_element_by_class_name(\"search-form__left-button\")\n",
    "driver.execute_script(\"arguments[0].click()\", enter_field)\n",
    "# time.sleep(.5)\n",
    "# click_and_wait(driver, \"search-form__left-button\", 0)\n",
    "\n",
    "\n",
    "click_and_wait(driver, \"a[href*='search/data']\", 0)\n",
    "# data_field = driver.find_elements_by_css_selector(\"a[href*='search/data']\")\n",
    "# time.sleep(.5) # added for stability\n",
    "# print(data_field)\n",
    "# driver.execute_script(\"arguments[0].click()\", data_field[0])\n",
    "\n",
    "click_and_wait(driver, \"show-more-authors\", 1)\n",
    "\n",
    "# WebDriverWait(driver, 10).until(\n",
    "#     EC.presence_of_all_elements_located((By.CLASS_NAME, \"nova-e-text nova-e-text--size-m nova-e-text--family-sans-serif nova-e-text--spacing-none nova-e-text--color-inherit nova-e-text--clamp nova-v-person-list-item__title\"))\n",
    "# )\n",
    "\n",
    "time.sleep(.5)\n",
    "\n",
    "# print(driver.find_element_by_xpath(\"/html/body/div[2]/main/section/section[1]/ul/ul\"))\n",
    "\n",
    "soup = BeautifulSoup(driver.page_source, 'html.parser')\n",
    "thing = soup.find_all('div', {\"class\": \"nova-e-text nova-e-text--size-m nova-e-text--family-sans-serif nova-e-text--spacing-none nova-e-text--color-inherit nova-e-text--clamp nova-v-person-list-item__title\"})\n",
    "for stuff in thing:\n",
    "    author_url = stuff.find('a').get(\"href\")\n",
    "    print(author_url)\n",
    "#     if \"Ribeiro\" in author_url:\n",
    "#         print(str(author_url) + \"<-------------\")\n",
    "\n",
    "\n",
    "# search_field_list = driver.find_elements_by_class_name(\"lite-page__header-search-input\")\n",
    "# time.sleep(.5) # added for stability\n",
    "# search_field = search_field_list[0]\n",
    "# time.sleep(.5)\n",
    "# search_field.clear()\n",
    "# time.sleep(.5)\n",
    "\n",
    "# search_field.send_keys(\"10.1021/acs.iecr.5b03509\")\n",
    "# enter_field = driver.find_elements_by_class_name(\"lite-page__header-search-button\")[0]\n",
    "# driver.execute_script(\"arguments[0].click()\", enter_field)"
   ]
  },
  {
   "cell_type": "code",
   "execution_count": 4,
   "metadata": {},
   "outputs": [],
   "source": [
    "with open(\"./stored_authors/authors_and_papers.txt\", encoding=\"utf8\") as papers_file:\n",
    "    authors_and_papers = eval(papers_file.read())"
   ]
  },
  {
   "cell_type": "code",
   "execution_count": 5,
   "metadata": {},
   "outputs": [],
   "source": [
    "doi_urls = {}\n",
    "\n",
    "for paper_list in authors_and_papers.values():\n",
    "    for paper in paper_list:\n",
    "        doi_urls[paper] = None"
   ]
  },
  {
   "cell_type": "code",
   "execution_count": 6,
   "metadata": {},
   "outputs": [],
   "source": [
    "original_file_descriptor = sys.stdout"
   ]
  },
  {
   "cell_type": "code",
   "execution_count": 7,
   "metadata": {},
   "outputs": [],
   "source": [
    "sys.stdout = open(\"./paper_log.txt\", \"a\")"
   ]
  },
  {
   "cell_type": "code",
   "execution_count": 94,
   "metadata": {},
   "outputs": [
    {
     "name": "stdout",
     "output_type": "stream",
     "text": [
      "\n",
      "\n",
      "*****2019-06-24 11:11:03.724490*****\n",
      "\n",
      "Checking for linux64 geckodriver:v0.24.0 in cache\n",
      "Driver found in /home/local/NIST/jfl2/.wdm/geckodriver/v0.24.0/linux64/geckodriver\n",
      "https://www.researchgate.net/search\n",
      "\n",
      "---New search 2019-06-24 11:11:14.489480---\n",
      "DOI: 10.1016/j.carbon.2009.06.046\n",
      "Success\n",
      "https://www.researchgate.net/publication/222517880_European_inter-laboratory_comparison_of_high_pressure_CO2_sorption_isotherms_I_Activated_carbon\n",
      "\n",
      "---New search 2019-06-24 11:11:17.206835---\n",
      "DOI: 10.1016/j.coal.2004.05.002\n",
      "Success\n",
      "https://www.researchgate.net/publication/223844942_Methane_and_carbon_dioxide_adsorption-diffusion_experiments_on_coal_Upscaling_and_modeling\n",
      "\n",
      "---New search 2019-06-24 11:11:19.726545---\n",
      "DOI: 10.1016/j.coal.2005.07.003\n",
      "Success\n",
      "https://www.researchgate.net/publication/228825862_Investigation_of_high-pressure_selective_adsorptiondesorption_behaviour_of_CO2_and_CH4_on_coals_An_experimental_study\n",
      "\n",
      "---New search 2019-06-24 11:11:22.272608---\n",
      "DOI: 10.1016/j.coal.2007.01.005\n",
      "Success\n",
      "https://www.researchgate.net/publication/260983671_Inter-laboratory_comparison_II_CO2_isotherms_measured_on_moisture-equilibrated_Argonne_premium_coals_at_55C_and_up_to_15_MPa\n",
      "\n",
      "---New search 2019-06-24 11:11:24.780763---\n",
      "DOI: 10.1016/j.coal.2010.08.013\n",
      "Success\n",
      "https://www.researchgate.net/publication/236619480_European_inter-laboratory_comparison_of_high_pressure_CO2_sorption_isotherms_II_Natural_coals\n",
      "\n",
      "---New search 2019-06-24 11:11:27.324421---\n",
      "DOI: 10.1016/s0166-5162(02)00078-2\n",
      "Success\n",
      "https://www.researchgate.net/publication/222671122_High-pressure_methane_and_carbon_dioxide_adsorption_on_dry_and_moisture-equilibrate_Pennsylvanian_coals\n",
      "\n",
      "---New search 2019-06-24 11:11:29.867649---\n",
      "DOI: 10.1016/s0375-6742(03)00122-5\n",
      "Success\n",
      "\n",
      "29.51817774772644\n"
     ]
    }
   ],
   "source": [
    "overall_first_time = time.time()\n",
    "blah = {}\n",
    "\n",
    "driver = obtain_driver(\"https://www.researchgate.net/search\")\n",
    "time.sleep(1)\n",
    "\n",
    "doi_list = ['10.1016/j.carbon.2009.06.046', '10.1016/j.coal.2004.05.002', '10.1016/j.coal.2005.07.003', '10.1016/j.coal.2007.01.005', '10.1016/j.coal.2010.08.013', '10.1016/s0166-5162(02)00078-2', '10.1016/s0375-6742(03)00122-5']\n",
    "\n",
    "for doi in doi_list:\n",
    "    search_paper(doi, driver, blah)\n",
    "    time.sleep(.5)\n",
    "\n",
    "# for paper in doi_urls:\n",
    "#     try:\n",
    "#         search_paper(paper, driver, doi_urls)\n",
    "#     except Exception as e:\n",
    "#         print(\"********* ERROR: \" + str(e) + \"*********\")\n",
    "        \n",
    "#         driver.quit()\n",
    "        \n",
    "#         driver = obtain_driver(\"https://www.researchgate.net/search\")\n",
    "#         time.sleep(1) # maybe bring this up to since it can create a loop of Not Found -> Error (loads paper's page too late, then the site tries to enter/click stuff that doesn't exist (search_paper))\n",
    "#     sys.stdout.flush()\n",
    "#     time.sleep(.8)\n",
    "\n",
    "driver.quit()\n",
    "\n",
    "final_time = time.time() - overall_first_time\n",
    "print(\"\\n\" + str(final_time))"
   ]
  },
  {
   "cell_type": "code",
   "execution_count": null,
   "metadata": {},
   "outputs": [],
   "source": [
    "sys.stdout = original_file_descriptor"
   ]
  },
  {
   "cell_type": "code",
   "execution_count": 9,
   "metadata": {},
   "outputs": [],
   "source": [
    "with open(\"./stored_authors/doi_url_pairings.txt\", \"w\") as dup_file:\n",
    "    pprint(doi_urls, stream = dup_file)"
   ]
  },
  {
   "cell_type": "code",
   "execution_count": 12,
   "metadata": {},
   "outputs": [
    {
     "name": "stdout",
     "output_type": "stream",
     "text": [
      "https://www.researchgate.net/publication/222517880_European_inter-laboratory_comparison_of_high_pressure_CO2_sorption_isotherms_I_Activated_carbon\n"
     ]
    }
   ],
   "source": [
    "print(doi_urls['10.1016/j.carbon.2009.06.046'])"
   ]
  },
  {
   "cell_type": "code",
   "execution_count": 22,
   "metadata": {},
   "outputs": [],
   "source": [
    "for paper in doi_urls:\n",
    "    print(paper)"
   ]
  },
  {
   "cell_type": "code",
   "execution_count": 34,
   "metadata": {},
   "outputs": [
    {
     "name": "stdout",
     "output_type": "stream",
     "text": [
      "1550\n"
     ]
    }
   ],
   "source": [
    "print(len(doi_urls))"
   ]
  },
  {
   "cell_type": "code",
   "execution_count": null,
   "metadata": {},
   "outputs": [],
   "source": []
  }
 ],
 "metadata": {
  "kernelspec": {
   "display_name": "Python 3",
   "language": "python",
   "name": "python3"
  },
  "language_info": {
   "codemirror_mode": {
    "name": "ipython",
    "version": 3
   },
   "file_extension": ".py",
   "mimetype": "text/x-python",
   "name": "python",
   "nbconvert_exporter": "python",
   "pygments_lexer": "ipython3",
   "version": "3.7.3"
  }
 },
 "nbformat": 4,
 "nbformat_minor": 2
}

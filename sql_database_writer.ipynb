{
 "cells": [
  {
   "cell_type": "code",
   "execution_count": null,
   "metadata": {},
   "outputs": [],
   "source": [
    "import sqlite3\n",
    "import csv"
   ]
  },
  {
   "cell_type": "markdown",
   "metadata": {},
   "source": [
    "This file is currently just for testing purposes---plays with a placeholder sqlite3 database that has columns \"test_1\" and \"test_2\""
   ]
  },
  {
   "cell_type": "code",
   "execution_count": null,
   "metadata": {},
   "outputs": [],
   "source": [
    "def select_and_print(cursor, command_string):\n",
    "    \"\"\"\n",
    "    Selects entries from database and prints it out to the python interpreter. \n",
    "    \n",
    "    Parameters: \n",
    "    cursor         : Sqlite cursor object - the sqlite3 cursor created from .cursor() on a connected sqlite 3 database\n",
    "    command_string : String               - the entire select SQL command (e.g. \"select * from testing123;\")\n",
    "    \"\"\"\n",
    "    \n",
    "    cursor.execute(command_string)\n",
    "\n",
    "    rows = cursor.fetchall()\n",
    "    for row in rows:\n",
    "        print(row.keys())\n",
    "\n",
    "        string = \"\"\n",
    "        for key in row.keys():\n",
    "            string += str(row[key])\n",
    "            string += \" | \"\n",
    "        # print(str(row['test_1']) + \" | \" + str(row['test_2']))\n",
    "\n",
    "        print(string)\n",
    "        \n",
    "    # print(rows.keys())\n",
    "    \n",
    "    # print(rows[0]['test_1'])\n",
    "    # print(rows[0]['test_2'])\n",
    "    print(\"---------------\")"
   ]
  },
  {
   "cell_type": "code",
   "execution_count": null,
   "metadata": {},
   "outputs": [],
   "source": [
    "# Incomplete, currently only concatenates data string together and does nothing to modify the database.\n",
    "def update_values_test(cursor, root_id, mergee_ids):\n",
    "    \"\"\"\n",
    "    Merges entries into one master or root entry by combining their values (strings) into a merged_string.\n",
    "    \n",
    "    Parameters:\n",
    "    cursor      : Sqlite cursor object - the sqlite3 cursor created from .cursor() on a connected sqlite 3 database\n",
    "    root_id     : String               - the ID of the \"root\" entry, or the entry that absorbs all of the other entries being merged\n",
    "    mergee_ids  : String               - list of IDs of the entries that will be merged into the root entry\n",
    "    \"\"\"\n",
    "    \n",
    "    # Extracts string from root entry to use as the base of the merged_string\n",
    "    select_root = \"select test_2 from testing123 where test_1 = \" + str(root_id)\n",
    "    cursor.execute(select_root)\n",
    "    merged_string = cursor.fetchone()[0]\n",
    "    \n",
    "    # Iterates through mergees to merge them into the root\n",
    "    for mergee_id in mergee_ids:\n",
    "        # Extracts string from mergee and adds it to the merged_string\n",
    "        select_mergee = \"select test_2 from testing123 where test_1 = \" + str(mergee_id)\n",
    "        cursor.execute(select_mergee)\n",
    "        merged_string += cursor.fetchone()[0]\n",
    "        \n",
    "        # Deletes the mergee \n",
    "        delete_command = \"delete from testing123 where test_1 = \" + mergee_id\n",
    "        cursor.execute(delete_command)\n",
    "    \n",
    "    # Updates entry of root to be merged string\n",
    "    update_command = \"update testing123 set test_2 = '\" + merged_string + \"' where test_1 = \" + root_id\n",
    "    cursor.execute(update_command)\n",
    "    \n",
    "    print(merged_string)"
   ]
  },
  {
   "cell_type": "code",
   "execution_count": null,
   "metadata": {},
   "outputs": [],
   "source": [
    "def update_values(cursor, root_id, mergee_ids, new_root_name):\n",
    "    # Same as update_values_test but instead of merging things, set new_root_name as the name (if change is necessary) and update foreign keys of deleted entries to refer to the primary key of the root entry"
   ]
  }
 ],
 "metadata": {
  "kernelspec": {
   "display_name": "Python 3",
   "language": "python",
   "name": "python3"
  },
  "language_info": {
   "codemirror_mode": {
    "name": "ipython",
    "version": 3
   },
   "file_extension": ".py",
   "mimetype": "text/x-python",
   "name": "python",
   "nbconvert_exporter": "python",
   "pygments_lexer": "ipython3",
   "version": "3.7.3"
  }
 },
 "nbformat": 4,
 "nbformat_minor": 2
}

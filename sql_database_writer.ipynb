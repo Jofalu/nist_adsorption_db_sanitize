{
 "cells": [
  {
   "cell_type": "code",
   "execution_count": 10,
   "metadata": {},
   "outputs": [],
   "source": [
    "import mysql.connector as mariadb\n",
    "import csv"
   ]
  },
  {
   "cell_type": "code",
   "execution_count": 11,
   "metadata": {},
   "outputs": [],
   "source": [
    "with open(\"./stored_authors/root_names.txt\", 'r') as root_out:\n",
    "    root_names = eval(root_out.read())\n",
    "with open(\"./stored_authors/mergees.txt\", 'r') as mergees_out:\n",
    "    mergees = eval(mergees_out.read())"
   ]
  },
  {
   "cell_type": "code",
   "execution_count": 12,
   "metadata": {},
   "outputs": [],
   "source": [
    "def select_and_print(cursor, command_string):\n",
    "    \"\"\"\n",
    "    Selects entries from database and prints it out to the python interpreter. \n",
    "    \n",
    "    Parameters: \n",
    "    cursor         : Sqlite cursor object - the sqlite3 cursor created from .cursor() on a connected sqlite 3 database\n",
    "    command_string : String               - the entire select SQL command (e.g. \"select * from testing123;\")\n",
    "    \"\"\"\n",
    "    \n",
    "    cursor.execute(command_string)\n",
    "\n",
    "    rows = cursor.fetchall()\n",
    "    for row in rows:\n",
    "        print(row.keys())\n",
    "\n",
    "        string = \"\"\n",
    "        for key in row.keys():\n",
    "            string += str(row[key])\n",
    "            string += \" | \"\n",
    "        # print(str(row['test_1']) + \" | \" + str(row['test_2']))\n",
    "\n",
    "        print(string)\n",
    "        \n",
    "    # print(rows.keys())\n",
    "    \n",
    "    # print(rows[0]['test_1'])\n",
    "    # print(rows[0]['test_2'])\n",
    "    print(\"---------------\")"
   ]
  },
  {
   "cell_type": "code",
   "execution_count": 13,
   "metadata": {},
   "outputs": [],
   "source": [
    "def update_values(cursor, root_id, mergee_id, new_root_name):\n",
    "    # Updates given, middle, and family names of root_id\n",
    "    \n",
    "    if new_root_name != \"root\":\n",
    "        string_tokens = new_root_name.split('_')\n",
    "\n",
    "        root_name_update = \"update DBADSORPTION_SANDBOX.authors set given_name = '\" + string_tokens[0] + \"' where author_id = '\" + root_id + \"';\"\n",
    "        print(root_name_update) #\n",
    "#         cursor.execute(root_name_update)\n",
    "        root_name_update = \"update DBADSORPTION_SANDBOX.authors set middle_name = '\" + string_tokens[1] + \"' where author_id = '\" + root_id + \"';\"\n",
    "        print(root_name_update) # \n",
    "#         cursor.execute(root_name_update)\n",
    "        root_name_update = \"update DBADSORPTION_SANDBOX.authors set family_name = '\" + string_tokens[2] + \"' where author_id = '\" + root_id + \"';\"\n",
    "        print(root_name_update) # \n",
    "\n",
    "#         cursor.execute(root_name_update)\n",
    "\n",
    "    # Iterates through mergees and changes each foreign key in biblio_authors to the root_id \n",
    "    foreign_change_string = \"update DBADSORPTION_SANDBOX.biblio_authors set author_id = '\" + root_id + \"' where author_id = '\" +  mergee_id + \"';\"\n",
    "    print(foreign_change_string) #\n",
    "#     cursor.execute(foreign_change_string)\n",
    "    delete_string = \"DELETE from DBADSORPTION_SANDBOX.authors WHERE author_id = '\" + mergee_id + \"';\"\n",
    "    print(delete_string) #\n",
    "#     cursor.execute(delete_string)    "
   ]
  },
  {
   "cell_type": "code",
   "execution_count": 14,
   "metadata": {},
   "outputs": [
    {
     "name": "stdout",
     "output_type": "stream",
     "text": [
      "update DBADSORPTION_SANDBOX.authors set given_name = 'Yves' where author_id = '0000-0001-6082-5862';\n",
      "update DBADSORPTION_SANDBOX.authors set middle_name = '' where author_id = '0000-0001-6082-5862';\n",
      "update DBADSORPTION_SANDBOX.authors set family_name = 'Gensterblum' where author_id = '0000-0001-6082-5862';\n",
      "update DBADSORPTION_SANDBOX.biblio_authors set author_id = '0000-0001-6082-5862' where author_id = '4ca5f2776a525fdab98d81b63136522f5ae6fddb';\n",
      "DELETE from DBADSORPTION_SANDBOX.authors WHERE author_id = '4ca5f2776a525fdab98d81b63136522f5ae6fddb';\n",
      "update DBADSORPTION_SANDBOX.authors set given_name = 'Covadonga' where author_id = '0000-0002-4662-8448';\n",
      "update DBADSORPTION_SANDBOX.authors set middle_name = '' where author_id = '0000-0002-4662-8448';\n",
      "update DBADSORPTION_SANDBOX.authors set family_name = 'Pevida' where author_id = '0000-0002-4662-8448';\n",
      "update DBADSORPTION_SANDBOX.biblio_authors set author_id = '0000-0002-4662-8448' where author_id = 'a7c760ed9fa9e1231fb26de6e4165f1e8821513c';\n",
      "DELETE from DBADSORPTION_SANDBOX.authors WHERE author_id = 'a7c760ed9fa9e1231fb26de6e4165f1e8821513c';\n",
      "update DBADSORPTION_SANDBOX.authors set given_name = 'Richard' where author_id = '0000-0003-0967-6560';\n",
      "update DBADSORPTION_SANDBOX.authors set middle_name = '' where author_id = '0000-0003-0967-6560';\n",
      "update DBADSORPTION_SANDBOX.authors set family_name = 'Sakurovs' where author_id = '0000-0003-0967-6560';\n",
      "update DBADSORPTION_SANDBOX.biblio_authors set author_id = '0000-0003-0967-6560' where author_id = '3c58c50e830dd7b775bf193163c4fbd2411ea2f5';\n",
      "DELETE from DBADSORPTION_SANDBOX.authors WHERE author_id = '3c58c50e830dd7b775bf193163c4fbd2411ea2f5';\n",
      "update DBADSORPTION_SANDBOX.authors set given_name = 'David' where author_id = '778f4eb01ada8ecbadfa975f2af019500f6685de';\n",
      "update DBADSORPTION_SANDBOX.authors set middle_name = 'C.' where author_id = '778f4eb01ada8ecbadfa975f2af019500f6685de';\n",
      "update DBADSORPTION_SANDBOX.authors set family_name = 'Langreth' where author_id = '778f4eb01ada8ecbadfa975f2af019500f6685de';\n",
      "update DBADSORPTION_SANDBOX.biblio_authors set author_id = '778f4eb01ada8ecbadfa975f2af019500f6685de' where author_id = 'c5d18fa34d9d580c8e24e1ea34035555fb22356d';\n",
      "DELETE from DBADSORPTION_SANDBOX.authors WHERE author_id = 'c5d18fa34d9d580c8e24e1ea34035555fb22356d';\n",
      "update DBADSORPTION_SANDBOX.authors set given_name = 'Bidyut' where author_id = '975de28b0249c30fde13e4d1214d21d5d4ac6763';\n",
      "update DBADSORPTION_SANDBOX.authors set middle_name = 'Baran' where author_id = '975de28b0249c30fde13e4d1214d21d5d4ac6763';\n",
      "update DBADSORPTION_SANDBOX.authors set family_name = 'Saha' where author_id = '975de28b0249c30fde13e4d1214d21d5d4ac6763';\n",
      "update DBADSORPTION_SANDBOX.biblio_authors set author_id = '975de28b0249c30fde13e4d1214d21d5d4ac6763' where author_id = '4ff206651a890dafc062f9f7fa51888d77b2bca3';\n",
      "DELETE from DBADSORPTION_SANDBOX.authors WHERE author_id = '4ff206651a890dafc062f9f7fa51888d77b2bca3';\n",
      "update DBADSORPTION_SANDBOX.authors set given_name = 'Petra' where author_id = 'a6ec8ac36e50d6b37057a103b0ef45aca4c8c5c5';\n",
      "update DBADSORPTION_SANDBOX.authors set middle_name = 'Ágota' where author_id = 'a6ec8ac36e50d6b37057a103b0ef45aca4c8c5c5';\n",
      "update DBADSORPTION_SANDBOX.authors set family_name = 'Szilágyi' where author_id = 'a6ec8ac36e50d6b37057a103b0ef45aca4c8c5c5';\n",
      "update DBADSORPTION_SANDBOX.biblio_authors set author_id = 'a6ec8ac36e50d6b37057a103b0ef45aca4c8c5c5' where author_id = '64dbff6304e5a7fb80784e678eb6e19464791f80';\n",
      "DELETE from DBADSORPTION_SANDBOX.authors WHERE author_id = '64dbff6304e5a7fb80784e678eb6e19464791f80';\n"
     ]
    }
   ],
   "source": [
    "# mariadb_connect = mariadb.connect(user=\"jfl2@localhost\", passwd=\"jfl2_mysql\", database=\"DBADSORPTION_SANDBOX\")\n",
    "cursor = \"placeholder\"\n",
    "already_done_foreign = []\n",
    "for root, pair in mergees.items():\n",
    "    \n",
    "    for person in pair:\n",
    "        already_done_foreign.append(person)\n",
    "        \n",
    "        if root not in already_done_foreign:\n",
    "            update_values(cursor, root, person, root_names[root])"
   ]
  }
 ],
 "metadata": {
  "kernelspec": {
   "display_name": "Python 3",
   "language": "python",
   "name": "python3"
  },
  "language_info": {
   "codemirror_mode": {
    "name": "ipython",
    "version": 3
   },
   "file_extension": ".py",
   "mimetype": "text/x-python",
   "name": "python",
   "nbconvert_exporter": "python",
   "pygments_lexer": "ipython3",
   "version": "3.7.3"
  }
 },
 "nbformat": 4,
 "nbformat_minor": 2
}

{
 "cells": [
  {
   "cell_type": "code",
   "execution_count": null,
   "metadata": {},
   "outputs": [],
   "source": [
    "import sqlite3\n",
    "import csv"
   ]
  },
  {
   "cell_type": "markdown",
   "metadata": {},
   "source": [
    "This file is currently just for testing purposes---plays with a placeholder sqlite3 database that has columns \"test_1\" and \"test_2\""
   ]
  },
  {
   "cell_type": "code",
   "execution_count": null,
   "metadata": {},
   "outputs": [],
   "source": [
    "with open(\"./stored_authors/root_names.txt\", 'w') as root_out:\n",
    "    root_names = eval(root_out.read())\n",
    "with open(\"./stored_authors/mergees.txt\", 'w') as mergees_out:\n",
    "    mergees = eval(mergees_out.read())"
   ]
  },
  {
   "cell_type": "code",
   "execution_count": null,
   "metadata": {},
   "outputs": [],
   "source": [
    "def select_and_print(cursor, command_string):\n",
    "    \"\"\"\n",
    "    Selects entries from database and prints it out to the python interpreter. \n",
    "    \n",
    "    Parameters: \n",
    "    cursor         : Sqlite cursor object - the sqlite3 cursor created from .cursor() on a connected sqlite 3 database\n",
    "    command_string : String               - the entire select SQL command (e.g. \"select * from testing123;\")\n",
    "    \"\"\"\n",
    "    \n",
    "    cursor.execute(command_string)\n",
    "\n",
    "    rows = cursor.fetchall()\n",
    "    for row in rows:\n",
    "        print(row.keys())\n",
    "\n",
    "        string = \"\"\n",
    "        for key in row.keys():\n",
    "            string += str(row[key])\n",
    "            string += \" | \"\n",
    "        # print(str(row['test_1']) + \" | \" + str(row['test_2']))\n",
    "\n",
    "        print(string)\n",
    "        \n",
    "    # print(rows.keys())\n",
    "    \n",
    "    # print(rows[0]['test_1'])\n",
    "    # print(rows[0]['test_2'])\n",
    "    print(\"---------------\")"
   ]
  },
  {
   "cell_type": "code",
   "execution_count": null,
   "metadata": {},
   "outputs": [],
   "source": [
    "# Incomplete, currently only concatenates data string together and does nothing to modify the database.\n",
    "def update_values_test(cursor, root_id, mergee_ids):\n",
    "    \"\"\"\n",
    "    Merges entries into one master or root entry by combining their values (strings) into a merged_string.\n",
    "    \n",
    "    Parameters:\n",
    "    cursor      : Sqlite cursor object - the sqlite3 cursor created from .cursor() on a connected sqlite 3 database\n",
    "    root_id     : String               - the ID of the \"root\" entry, or the entry that absorbs all of the other entries being merged\n",
    "    mergee_ids  : String               - list of IDs of the entries that will be merged into the root entry\n",
    "    \"\"\"\n",
    "    \n",
    "    # Extracts string from root entry to use as the base of the merged_string\n",
    "    select_root = \"select test_2 from testing123 where test_1 = \" + str(root_id)\n",
    "    cursor.execute(select_root)\n",
    "    merged_string = cursor.fetchone()[0]\n",
    "    \n",
    "    # Iterates through mergees to merge them into the root\n",
    "    for mergee_id in mergee_ids:\n",
    "        # Extracts string from mergee and adds it to the merged_string\n",
    "        select_mergee = \"select test_2 from testing123 where test_1 = \" + str(mergee_id)\n",
    "        cursor.execute(select_mergee)\n",
    "        merged_string += cursor.fetchone()[0]\n",
    "        \n",
    "        # Deletes the mergee \n",
    "        delete_command = \"delete from testing123 where test_1 = \" + mergee_id\n",
    "        cursor.execute(delete_command)\n",
    "    \n",
    "    # Updates entry of root to be merged string\n",
    "    update_command = \"update testing123 set test_2 = '\" + merged_string + \"' where test_1 = \" + root_id\n",
    "    cursor.execute(update_command)\n",
    "    \n",
    "    print(merged_string)"
   ]
  },
  {
   "cell_type": "code",
   "execution_count": null,
   "metadata": {},
   "outputs": [],
   "source": [
    "def update_values(cursor, root_id, mergee_ids, new_root_name):\n",
    "    # Updates given, middle, and family names of root_id\n",
    "    string_tokens = new_root_name.split('_')\n",
    "    \n",
    "    root_name_update = \"update DBADSORPTION_SANDBOX.authors set given_name = '\" + string_tokens[0] + \"' where author_id = '\" + root_id + \"';\"\n",
    "    cursor.execute(root_name_update)\n",
    "    root_name_update = \"update DBADSORPTION_SANDBOX.authors set middle_name = '\" + string_tokens[1] + \"' where author_id = '\" + root_id + \"';\"\n",
    "    cursor.execute(root_name_update)\n",
    "    root_name_update = \"update DBADSORPTION_SANDBOX.authors set family_name = '\" + string_tokens[2] + \"' where author_id = '\" + root_id + \"';\"\n",
    "    cursor.execute(root_name_update)\n",
    "    \n",
    "    # Iterates through mergees and changes each foreign key in biblio_authors to the root_id \n",
    "    for mergee in mergee_ids:\n",
    "        foreign_change_string = \"update DBADSORPTION_SANDBOX.biblio_authors set author_id = '\" + root_id + \"' where author_id = '\" +  mergee + \"';\"\n",
    "        cursor.execute(foreign_change_string)\n",
    "        delete_string = \"DELETE from DBADSORPTION_SANDBOX.authors WHERE author_id = '\" + mergee + \"';\"\n",
    "        cursor.execute(delete_string)"
   ]
  },
  {
   "cell_type": "code",
   "execution_count": null,
   "metadata": {},
   "outputs": [],
   "source": [
    "for root, pair in mergees.items():\n",
    "    update_values(cursor, root, pair, root_names[root])"
   ]
  }
 ],
 "metadata": {
  "kernelspec": {
   "display_name": "Python 3",
   "language": "python",
   "name": "python3"
  },
  "language_info": {
   "codemirror_mode": {
    "name": "ipython",
    "version": 3
   },
   "file_extension": ".py",
   "mimetype": "text/x-python",
   "name": "python",
   "nbconvert_exporter": "python",
   "pygments_lexer": "ipython3",
   "version": "3.7.3"
  }
 },
 "nbformat": 4,
 "nbformat_minor": 2
}

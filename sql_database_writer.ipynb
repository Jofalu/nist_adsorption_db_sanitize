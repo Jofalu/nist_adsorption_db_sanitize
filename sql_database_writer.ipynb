{
 "cells": [
  {
   "cell_type": "code",
   "execution_count": null,
   "metadata": {},
   "outputs": [],
   "source": [
    "import sqlite3\n",
    "import csv"
   ]
  },
  {
   "cell_type": "markdown",
   "metadata": {},
   "source": [
    "This file is currently just for testing purposes---plays with a placeholder sqlite3 database that has columns \"test_1\" and \"test_2\""
   ]
  },
  {
   "cell_type": "code",
   "execution_count": null,
   "metadata": {},
   "outputs": [],
   "source": [
    "def select_and_print(cursor, command_string):\n",
    "    \"\"\"\n",
    "    Selects entries from database and prints it out to the python interpreter. \n",
    "    \n",
    "    Parameters: \n",
    "    cursor         : the sqlite3 cursor created from .cursor() on a connected sqlite 3 database\n",
    "    command_string : the entire select SQL command (e.g. \"select * from testing123;\")\n",
    "    \"\"\"\n",
    "    cursor.execute(command_string)\n",
    "\n",
    "    rows = cursor.fetchall()\n",
    "    for row in rows:\n",
    "        print(row.keys())\n",
    "\n",
    "        string = \"\"\n",
    "        for key in row.keys():\n",
    "            string += str(row[key])\n",
    "            string += \" | \"\n",
    "        # print(str(row['test_1']) + \" | \" + str(row['test_2']))\n",
    "\n",
    "        print(string)\n",
    "        \n",
    "    # print(rows.keys())\n",
    "    \n",
    "    # print(rows[0]['test_1'])\n",
    "    # print(rows[0]['test_2'])\n",
    "    print(\"---------------\")"
   ]
  }
 ],
 "metadata": {
  "kernelspec": {
   "display_name": "Python 3",
   "language": "python",
   "name": "python3"
  },
  "language_info": {
   "codemirror_mode": {
    "name": "ipython",
    "version": 3
   },
   "file_extension": ".py",
   "mimetype": "text/x-python",
   "name": "python",
   "nbconvert_exporter": "python",
   "pygments_lexer": "ipython3",
   "version": "3.7.3"
  }
 },
 "nbformat": 4,
 "nbformat_minor": 2
}

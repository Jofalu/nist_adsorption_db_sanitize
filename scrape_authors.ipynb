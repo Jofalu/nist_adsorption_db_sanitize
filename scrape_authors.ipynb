{
 "cells": [
  {
   "cell_type": "code",
   "execution_count": 3,
   "metadata": {},
   "outputs": [],
   "source": [
    "from pprint import pprint\n",
    "import urllib\n",
    "from bs4 import BeautifulSoup\n",
    "from webdriver_manager.firefox import GeckoDriverManager\n",
    "import time\n",
    "import sys\n",
    "import datetime\n",
    "\n",
    "from selenium import webdriver\n",
    "from selenium.common.exceptions import TimeoutException\n",
    "from selenium.webdriver.firefox.options import Options\n",
    "from selenium.webdriver.support.ui import WebDriverWait\n",
    "from selenium.webdriver.support import expected_conditions as EC\n",
    "from selenium.webdriver.common.by import By"
   ]
  },
  {
   "cell_type": "code",
   "execution_count": 4,
   "metadata": {},
   "outputs": [],
   "source": [
    "# Given a URL string, opens the URL in a headless Firefox instance and returns a reference to the webdriver object\n",
    "\n",
    "def obtain_driver(url):\n",
    "    buttons = []\n",
    "    driver_options = Options()\n",
    "    driver_options.headless = True\n",
    "    \n",
    "    print(\"\\n\\n*****\" + str(datetime.datetime.now()) + \"*****\")\n",
    "    \n",
    "    driver = webdriver.Firefox(options=driver_options, executable_path=GeckoDriverManager().install())\n",
    "    \n",
    "    # WARNING, THIS IS SPECIFIC TO THIS MACHINE (retrieves the installed uBlock Origin from the Firefox on this computer.) Need a computer-agnostic way.\n",
    "    driver.install_addon(\"~/.mozilla/firefox/f4t6w0s5.default-release/extensions/uBlock0@raymondhill.net.xpi\", temporary=True)\n",
    "\n",
    "    driver.get(url)\n",
    "    \n",
    "    time.sleep(.5)\n",
    "    \n",
    "    return driver"
   ]
  },
  {
   "cell_type": "code",
   "execution_count": 10,
   "metadata": {},
   "outputs": [],
   "source": [
    "# Clicks on element and waits for a page load. driver == webdriver, element == string (class or css_selector), find_elements_by == integer\n",
    "# find_elements_by: 0 for css_selector, 1 for class_name\n",
    "\n",
    "def click_and_wait(driver, element, find_elements_by):\n",
    "    old_driver = driver.find_element_by_tag_name('html')\n",
    "    \n",
    "    WebDriverWait(driver, 10).until(EC.staleness_of(old_driver))\n",
    "    \n",
    "    try:\n",
    "        if find_elements_by == 0:\n",
    "            button = driver.find_element_by_css_selector(element)\n",
    "        else:\n",
    "            button = driver.find_element_by_class_name(element)\n",
    "            \n",
    "        driver.execute_script(\"arguments[0].click()\", button)\n",
    "    except:\n",
    "        print(\"No button\")"
   ]
  },
  {
   "cell_type": "code",
   "execution_count": 6,
   "metadata": {},
   "outputs": [],
   "source": [
    "# Given a DOI, uses obtain_driver to open up the search site and search the DOI to open up the paper in the page. Returns the webdriver associated with it.\n",
    "\n",
    "def search_paper(doi, driver):\n",
    "    if \"www.researchgate.net/search\" in driver.current_url:\n",
    "        search_input = \"search-form__input\"\n",
    "        search_button = \"search-form__left-button\"\n",
    "    else:\n",
    "        search_input = \"lite-page__header-search-input\"\n",
    "        search_button = \"lite-page__header-search-button\"\n",
    "    \n",
    "    print(\"\\n---\" + \"New search \" + str(datetime.datetime.now()) + \"---\")\n",
    "    print(\"DOI: \" + doi)\n",
    "    \n",
    "    \n",
    "    search_field_list = driver.find_element_by_class_name(search_input)\n",
    "    time.sleep(.25) # added for stability\n",
    "    search_field = search_field_list\n",
    "    time.sleep(.25)\n",
    "    search_field.clear()\n",
    "    time.sleep(.25)\n",
    "    search_field.send_keys(doi)\n",
    "    \n",
    "    enter_field = driver.find_element_by_class_name(search_button)\n",
    "    driver.execute_script(\"arguments[0].click()\", enter_field)\n",
    "  \n",
    "    click_and_wait(driver, \"a[href*='search/data']\", 0)\n",
    "\n",
    "    time.sleep(.5)\n",
    "    \n",
    "    if \"www.researchgate.net/search\" in driver.current_url:\n",
    "        print(\"Paper not found (search)\")\n",
    "        \n",
    "        return None\n",
    "    else: \n",
    "        print(\"Success\")\n",
    "        return driver"
   ]
  },
  {
   "cell_type": "code",
   "execution_count": 7,
   "metadata": {},
   "outputs": [],
   "source": [
    "# Given the webdriver, shows more authors. Returns the modified webdriver.\n",
    "\n",
    "def show_authors(driver): \n",
    "    \n",
    "    time.sleep(1) # Change to 1.5 if too unstable\n",
    "    \n",
    "    if not driver:\n",
    "        print(\"Exiting: No driver\")\n",
    "        return None\n",
    "    \n",
    "    first_start = time.time()\n",
    "    \n",
    "    buttons = driver.find_elements_by_class_name(\"show-more-authors\")\n",
    "    \n",
    "    print(\"show_more_authors button: \" + str(buttons))\n",
    "    \n",
    "    if len(buttons) == 1:\n",
    "        click_and_wait(driver, \"show-more-authors\", 1)\n",
    "#         time.sleep(2)\n",
    "#         print(\"click\")\n",
    "#         driver.execute_script(\"arguments[0].click();\", buttons[0])\n",
    "# #         WebDriverWait(driver, 5).until(EC.presence_of_element_located((By.CLASS_NAME, \"show-less-authors\")))\n",
    "#         time.sleep(1)    # Change to 1.5 if too unstable\n",
    "    \n",
    "    first_end = time.time()\n",
    "\n",
    "    print(\"DONE - \" + str(first_end-first_start))\n",
    "\n",
    "    return driver\n",
    "    \n",
    "# driver.quit()\n"
   ]
  },
  {
   "cell_type": "code",
   "execution_count": 8,
   "metadata": {},
   "outputs": [],
   "source": [
    "# Given the webdriver, parses its source for author URLs.\n",
    "\n",
    "def soup_it(driver, author_tokens):\n",
    "    \n",
    "#     time.sleep(2)\n",
    "    if driver is None:\n",
    "        print(\"No soup for you\")\n",
    "        return 0\n",
    "    \n",
    "    soup = BeautifulSoup(driver.page_source, 'html.parser')\n",
    "\n",
    "    thing = soup.find_all('div', {\"class\": \"nova-e-text nova-e-text--size-m nova-e-text--family-sans-serif nova-e-text--spacing-none nova-e-text--color-inherit nova-e-text--clamp nova-v-person-list-item__title\"})\n",
    "    for stuff in thing:\n",
    "        author_url = stuff.find('a').get(\"href\")\n",
    "        print(author_url)\n",
    "        if len(author_tokens) == 1:\n",
    "            if author_tokens[0] in author_url:\n",
    "                print(str(author_url) + \"<-------------\")\n",
    "        elif len(author_tokens) == 2:\n",
    "            if author_tokens[0][0] in author_url and author_tokens[1] in author_url:\n",
    "                print(str(author_url) + \"<-------------\")\n",
    "\n",
    "    return 1"
   ]
  },
  {
   "cell_type": "code",
   "execution_count": 6,
   "metadata": {},
   "outputs": [],
   "source": [
    "# original_file_descriptor = sys.stdout"
   ]
  },
  {
   "cell_type": "code",
   "execution_count": 7,
   "metadata": {},
   "outputs": [],
   "source": [
    "# sys.stdout = open(\"./scraping_log.txt\", \"a\")"
   ]
  },
  {
   "cell_type": "code",
   "execution_count": 8,
   "metadata": {},
   "outputs": [],
   "source": [
    "# sys.stdout = original_file_descriptor"
   ]
  },
  {
   "cell_type": "code",
   "execution_count": 9,
   "metadata": {},
   "outputs": [
    {
     "name": "stdout",
     "output_type": "stream",
     "text": [
      "\n",
      "\n",
      "*****2019-06-24 11:27:44.134679*****\n",
      "\n",
      "Checking for linux64 geckodriver:v0.24.0 in cache\n",
      "Driver found in /home/local/NIST/jfl2/.wdm/geckodriver/v0.24.0/linux64/geckodriver\n",
      "\n",
      "---New search 2019-06-24 11:27:55.127994---\n",
      "DOI: 10.1016/j.carbon.2009.06.046\n",
      "Success\n",
      "show_more_authors button: [<selenium.webdriver.firefox.webelement.FirefoxWebElement (session=\"ff24cc89-9f8c-4dec-8139-ac56dcbc0bf8\", element=\"6d3b95a6-16c1-4e7b-b855-a9ed480600c3\")>]\n"
     ]
    },
    {
     "ename": "TimeoutException",
     "evalue": "Message: \n",
     "output_type": "error",
     "traceback": [
      "\u001b[0;31m---------------------------------------------------------------------------\u001b[0m",
      "\u001b[0;31mTimeoutException\u001b[0m                          Traceback (most recent call last)",
      "\u001b[0;32m<ipython-input-9-a9dff6af01cc>\u001b[0m in \u001b[0;36m<module>\u001b[0;34m\u001b[0m\n\u001b[1;32m     13\u001b[0m \u001b[0;34m\u001b[0m\u001b[0m\n\u001b[1;32m     14\u001b[0m \u001b[0;32mfor\u001b[0m \u001b[0mdoi\u001b[0m \u001b[0;32min\u001b[0m \u001b[0mdoi_list\u001b[0m\u001b[0;34m:\u001b[0m\u001b[0;34m\u001b[0m\u001b[0;34m\u001b[0m\u001b[0m\n\u001b[0;32m---> 15\u001b[0;31m     \u001b[0msoup_it\u001b[0m\u001b[0;34m(\u001b[0m\u001b[0mshow_authors\u001b[0m\u001b[0;34m(\u001b[0m\u001b[0msearch_paper\u001b[0m\u001b[0;34m(\u001b[0m\u001b[0mdoi\u001b[0m\u001b[0;34m,\u001b[0m \u001b[0mdriver\u001b[0m\u001b[0;34m)\u001b[0m\u001b[0;34m)\u001b[0m\u001b[0;34m,\u001b[0m \u001b[0;34m\"Gensterblum\"\u001b[0m\u001b[0;34m)\u001b[0m\u001b[0;34m\u001b[0m\u001b[0;34m\u001b[0m\u001b[0m\n\u001b[0m\u001b[1;32m     16\u001b[0m     \u001b[0mtime\u001b[0m\u001b[0;34m.\u001b[0m\u001b[0msleep\u001b[0m\u001b[0;34m(\u001b[0m\u001b[0;36m.8\u001b[0m\u001b[0;34m)\u001b[0m\u001b[0;34m\u001b[0m\u001b[0;34m\u001b[0m\u001b[0m\n\u001b[1;32m     17\u001b[0m \u001b[0;34m\u001b[0m\u001b[0m\n",
      "\u001b[0;32m<ipython-input-7-bea26b89a1d9>\u001b[0m in \u001b[0;36mshow_authors\u001b[0;34m(driver)\u001b[0m\n\u001b[1;32m     16\u001b[0m \u001b[0;34m\u001b[0m\u001b[0m\n\u001b[1;32m     17\u001b[0m     \u001b[0;32mif\u001b[0m \u001b[0mlen\u001b[0m\u001b[0;34m(\u001b[0m\u001b[0mbuttons\u001b[0m\u001b[0;34m)\u001b[0m \u001b[0;34m==\u001b[0m \u001b[0;36m1\u001b[0m\u001b[0;34m:\u001b[0m\u001b[0;34m\u001b[0m\u001b[0;34m\u001b[0m\u001b[0m\n\u001b[0;32m---> 18\u001b[0;31m         \u001b[0mclick_and_wait\u001b[0m\u001b[0;34m(\u001b[0m\u001b[0mdriver\u001b[0m\u001b[0;34m,\u001b[0m \u001b[0;34m\"show-more-authors\"\u001b[0m\u001b[0;34m,\u001b[0m \u001b[0;36m1\u001b[0m\u001b[0;34m)\u001b[0m\u001b[0;34m\u001b[0m\u001b[0;34m\u001b[0m\u001b[0m\n\u001b[0m\u001b[1;32m     19\u001b[0m \u001b[0;31m#         time.sleep(2)\u001b[0m\u001b[0;34m\u001b[0m\u001b[0;34m\u001b[0m\u001b[0;34m\u001b[0m\u001b[0m\n\u001b[1;32m     20\u001b[0m \u001b[0;31m#         print(\"click\")\u001b[0m\u001b[0;34m\u001b[0m\u001b[0;34m\u001b[0m\u001b[0;34m\u001b[0m\u001b[0m\n",
      "\u001b[0;32m<ipython-input-5-927819ab8a29>\u001b[0m in \u001b[0;36mclick_and_wait\u001b[0;34m(driver, element, find_elements_by)\u001b[0m\n\u001b[1;32m      5\u001b[0m     \u001b[0mold_driver\u001b[0m \u001b[0;34m=\u001b[0m \u001b[0mdriver\u001b[0m\u001b[0;34m.\u001b[0m\u001b[0mfind_element_by_tag_name\u001b[0m\u001b[0;34m(\u001b[0m\u001b[0;34m'html'\u001b[0m\u001b[0;34m)\u001b[0m\u001b[0;34m\u001b[0m\u001b[0;34m\u001b[0m\u001b[0m\n\u001b[1;32m      6\u001b[0m \u001b[0;34m\u001b[0m\u001b[0m\n\u001b[0;32m----> 7\u001b[0;31m     \u001b[0mWebDriverWait\u001b[0m\u001b[0;34m(\u001b[0m\u001b[0mdriver\u001b[0m\u001b[0;34m,\u001b[0m \u001b[0;36m10\u001b[0m\u001b[0;34m)\u001b[0m\u001b[0;34m.\u001b[0m\u001b[0muntil\u001b[0m\u001b[0;34m(\u001b[0m\u001b[0mEC\u001b[0m\u001b[0;34m.\u001b[0m\u001b[0mstaleness_of\u001b[0m\u001b[0;34m(\u001b[0m\u001b[0mold_driver\u001b[0m\u001b[0;34m)\u001b[0m\u001b[0;34m)\u001b[0m\u001b[0;34m\u001b[0m\u001b[0;34m\u001b[0m\u001b[0m\n\u001b[0m\u001b[1;32m      8\u001b[0m \u001b[0;34m\u001b[0m\u001b[0m\n\u001b[1;32m      9\u001b[0m     \u001b[0;32mif\u001b[0m \u001b[0mfind_elements_by\u001b[0m \u001b[0;34m==\u001b[0m \u001b[0;36m0\u001b[0m\u001b[0;34m:\u001b[0m\u001b[0;34m\u001b[0m\u001b[0;34m\u001b[0m\u001b[0m\n",
      "\u001b[0;32m~/.local/lib/python3.7/site-packages/selenium/webdriver/support/wait.py\u001b[0m in \u001b[0;36muntil\u001b[0;34m(self, method, message)\u001b[0m\n\u001b[1;32m     78\u001b[0m             \u001b[0;32mif\u001b[0m \u001b[0mtime\u001b[0m\u001b[0;34m.\u001b[0m\u001b[0mtime\u001b[0m\u001b[0;34m(\u001b[0m\u001b[0;34m)\u001b[0m \u001b[0;34m>\u001b[0m \u001b[0mend_time\u001b[0m\u001b[0;34m:\u001b[0m\u001b[0;34m\u001b[0m\u001b[0;34m\u001b[0m\u001b[0m\n\u001b[1;32m     79\u001b[0m                 \u001b[0;32mbreak\u001b[0m\u001b[0;34m\u001b[0m\u001b[0;34m\u001b[0m\u001b[0m\n\u001b[0;32m---> 80\u001b[0;31m         \u001b[0;32mraise\u001b[0m \u001b[0mTimeoutException\u001b[0m\u001b[0;34m(\u001b[0m\u001b[0mmessage\u001b[0m\u001b[0;34m,\u001b[0m \u001b[0mscreen\u001b[0m\u001b[0;34m,\u001b[0m \u001b[0mstacktrace\u001b[0m\u001b[0;34m)\u001b[0m\u001b[0;34m\u001b[0m\u001b[0;34m\u001b[0m\u001b[0m\n\u001b[0m\u001b[1;32m     81\u001b[0m \u001b[0;34m\u001b[0m\u001b[0m\n\u001b[1;32m     82\u001b[0m     \u001b[0;32mdef\u001b[0m \u001b[0muntil_not\u001b[0m\u001b[0;34m(\u001b[0m\u001b[0mself\u001b[0m\u001b[0;34m,\u001b[0m \u001b[0mmethod\u001b[0m\u001b[0;34m,\u001b[0m \u001b[0mmessage\u001b[0m\u001b[0;34m=\u001b[0m\u001b[0;34m''\u001b[0m\u001b[0;34m)\u001b[0m\u001b[0;34m:\u001b[0m\u001b[0;34m\u001b[0m\u001b[0;34m\u001b[0m\u001b[0m\n",
      "\u001b[0;31mTimeoutException\u001b[0m: Message: \n"
     ]
    }
   ],
   "source": [
    "overall_first_time = time.time()\n",
    "\n",
    "driver = obtain_driver(\"https://www.researchgate.net/search\")\n",
    "time.sleep(1)\n",
    "\n",
    "\n",
    "# doi_list = [\"10.1021/acs.iecr.5b03509\", \"10.1007/s10450-014-9639-3\", \"10.1002/adfm.200500563\", \"10.1002/adfm.200500561\", \"10.1002/adfm.200500563\"]\n",
    "# source = search_paper(\"10.1021/acs.iecr.5b03509\", driver)   # 6 authors\n",
    "# source = search_paper(\"10.1007/s10450-014-9639-3\", driver)  # 9 authors\n",
    "# source = search_paper(\"10.1002/adfm.200500561\", driver)     # 4 authors\n",
    "# source = search_paper(\"10.1002/adfm.200500563\")     # doesn't exist\n",
    "doi_list = ['10.1016/j.carbon.2009.06.046', '10.1016/j.coal.2004.05.002', '10.1016/j.coal.2005.07.003', '10.1016/j.coal.2007.01.005', '10.1016/j.coal.2010.08.013', '10.1016/s0166-5162(02)00078-2', '10.1016/s0375-6742(03)00122-5']\n",
    "\n",
    "for doi in doi_list:\n",
    "    soup_it(show_authors(search_paper(doi, driver)), \"Gensterblum\")\n",
    "    time.sleep(.8)\n",
    "\n",
    "driver.quit()\n",
    "\n",
    "final_time = time.time() - overall_first_time\n",
    "print(final_time)"
   ]
  },
  {
   "cell_type": "code",
   "execution_count": null,
   "metadata": {},
   "outputs": [],
   "source": []
  }
 ],
 "metadata": {
  "kernelspec": {
   "display_name": "Python 3",
   "language": "python",
   "name": "python3"
  },
  "language_info": {
   "codemirror_mode": {
    "name": "ipython",
    "version": 3
   },
   "file_extension": ".py",
   "mimetype": "text/x-python",
   "name": "python",
   "nbconvert_exporter": "python",
   "pygments_lexer": "ipython3",
   "version": "3.7.3"
  }
 },
 "nbformat": 4,
 "nbformat_minor": 2
}

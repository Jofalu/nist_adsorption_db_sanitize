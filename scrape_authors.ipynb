{
 "cells": [
  {
   "cell_type": "code",
   "execution_count": 1,
   "metadata": {},
   "outputs": [],
   "source": [
    "from pprint import pprint\n",
    "import urllib\n",
    "from bs4 import BeautifulSoup\n",
    "import mechanize"
   ]
  },
  {
   "cell_type": "code",
   "execution_count": 2,
   "metadata": {},
   "outputs": [],
   "source": [
    "def obtain_url_researchgate(website_url):\n",
    "    request = urllib.request.Request(\n",
    "        url = website_url,\n",
    "        data = None,\n",
    "        headers = {\n",
    "            'User-Agent': 'Mozilla/5.0 (X11; Linux x86_64) AppleWebKit/537.36 (KHTML, like Gecko) Chrome/51.0.2704.103 Safari/537.36'\n",
    "        }\n",
    "    )\n",
    "\n",
    "    testurl = urllib.request.urlopen(request)\n",
    "    soup = BeautifulSoup(testurl, 'html.parser')\n",
    "\n",
    "    thing = soup.find_all('div', {\"class\": \"nova-e-text nova-e-text--size-m nova-e-text--family-sans-serif nova-e-text--spacing-none nova-e-text--color-inherit nova-e-text--clamp nova-v-person-list-item__title\"})\n",
    "    for stuff in thing:\n",
    "        print(stuff.find('a').get(\"href\"))"
   ]
  },
  {
   "cell_type": "code",
   "execution_count": 3,
   "metadata": {},
   "outputs": [
    {
     "name": "stdout",
     "output_type": "stream",
     "text": [
      "https://www.researchgate.net/profile/Juliana_Coelho5\n",
      "https://www.researchgate.net/profile/Ana_Ribeiro25\n",
      "https://www.researchgate.net/profile/Alexandre_Ferreira4\n",
      "https://www.researchgate.net/scientific-contributions/2082644774_Sebastiao_MP_Lucena\n"
     ]
    }
   ],
   "source": [
    "obtain_url_researchgate(\"https://www.researchgate.net/publication/293012925_On_the_stability_of_an_Al-fumarate_MOF_and_its_potential_for_CO2_capture_from_wet_stream\")"
   ]
  },
  {
   "cell_type": "code",
   "execution_count": 4,
   "metadata": {},
   "outputs": [
    {
     "name": "stdout",
     "output_type": "stream",
     "text": [
      "https://www.researchgate.net/profile/Rafael_Rios8\n",
      "https://www.researchgate.net/profile/Leolincoln_Da_Silva_Correia\n",
      "https://www.researchgate.net/profile/Moises_Bastos-Neto\n",
      "https://www.researchgate.net/profile/Antonio_Torres10\n"
     ]
    }
   ],
   "source": [
    "obtain_url_researchgate(\"https://www.researchgate.net/publication/284825989_Evaluation_of_carbon_dioxide-nitrogen_separation_through_fixed_bed_measurements_and_simulations\")"
   ]
  }
 ],
 "metadata": {
  "kernelspec": {
   "display_name": "Python 3",
   "language": "python",
   "name": "python3"
  },
  "language_info": {
   "codemirror_mode": {
    "name": "ipython",
    "version": 3
   },
   "file_extension": ".py",
   "mimetype": "text/x-python",
   "name": "python",
   "nbconvert_exporter": "python",
   "pygments_lexer": "ipython3",
   "version": "3.7.3"
  }
 },
 "nbformat": 4,
 "nbformat_minor": 2
}

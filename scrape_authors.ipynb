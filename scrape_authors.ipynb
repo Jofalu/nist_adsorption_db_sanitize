{
 "cells": [
  {
   "cell_type": "code",
   "execution_count": 1,
   "metadata": {},
   "outputs": [],
   "source": [
    "from pprint import pprint\n",
    "import urllib\n",
    "from bs4 import BeautifulSoup\n",
    "# import mechanize  # Wrong use case\n",
    "from selenium import webdriver\n",
    "from webdriver_manager.firefox import GeckoDriverManager\n",
    "from selenium.webdriver.firefox.options import Options"
   ]
  },
  {
   "cell_type": "code",
   "execution_count": 2,
   "metadata": {},
   "outputs": [],
   "source": [
    "import time"
   ]
  },
  {
   "cell_type": "code",
   "execution_count": 3,
   "metadata": {},
   "outputs": [],
   "source": [
    "def soup_it(driver_source):\n",
    "    soup = BeautifulSoup(driver_source, 'html.parser')\n",
    "\n",
    "    thing = soup.find_all('div', {\"class\": \"nova-e-text nova-e-text--size-m nova-e-text--family-sans-serif nova-e-text--spacing-none nova-e-text--color-inherit nova-e-text--clamp nova-v-person-list-item__title\"})\n",
    "    for stuff in thing:\n",
    "        print(stuff.find('a').get(\"href\"))"
   ]
  },
  {
   "cell_type": "code",
   "execution_count": 4,
   "metadata": {},
   "outputs": [],
   "source": [
    "def obtain_driver(url):\n",
    "    buttons = []\n",
    "    driver_options = Options()\n",
    "    driver_options.headless = True\n",
    "\n",
    "    driver = webdriver.Firefox(options=driver_options, executable_path=GeckoDriverManager().install())\n",
    "    # driver.install_addon(\"~/.mozilla/firefox/f4t6w0s5.default-release/extensions/uBlock0@raymondhill.net.xpi\", temporary=True)\n",
    "\n",
    "    driver.get(url)\n",
    "    \n",
    "    time.sleep(1)\n",
    "    \n",
    "    return driver"
   ]
  },
  {
   "cell_type": "code",
   "execution_count": 17,
   "metadata": {},
   "outputs": [],
   "source": [
    "def show_authors(driver): \n",
    "    first_start = time.time()\n",
    "    \n",
    "#     driver = obtain_driver(url)\n",
    "    \n",
    "    buttons = driver.find_elements_by_class_name(\"show-more-authors\")\n",
    "    time.sleep(1)\n",
    "    driver.execute_script(\"arguments[0].click();\", buttons[0])\n",
    "    time.sleep(1)\n",
    "\n",
    "    first_end = time.time()\n",
    "\n",
    "    print(\"DONE - \" + str(first_end-first_start))\n",
    "    \n",
    "    return driver\n",
    "# driver.quit()\n"
   ]
  },
  {
   "cell_type": "code",
   "execution_count": 10,
   "metadata": {},
   "outputs": [],
   "source": [
    "def search_paper(doi):\n",
    "    driver = obtain_driver(\"https://www.researchgate.net/search\")\n",
    "    \n",
    "    search_field = driver.find_elements_by_class_name(\"search-form__input\")[0]\n",
    "    search_field.send_keys(doi)\n",
    "    \n",
    "    enter_field = driver.find_elements_by_class_name(\"search-form__left-button\")[0]\n",
    "    driver.execute_script(\"arguments[0].click()\", enter_field)\n",
    "    \n",
    "    return driver"
   ]
  },
  {
   "cell_type": "code",
   "execution_count": 12,
   "metadata": {},
   "outputs": [
    {
     "name": "stdout",
     "output_type": "stream",
     "text": [
      "\n",
      "Checking for linux64 geckodriver:v0.24.0 in cache\n",
      "Driver found in /home/local/NIST/jfl2/.wdm/geckodriver/v0.24.0/linux64/geckodriver\n"
     ]
    }
   ],
   "source": [
    "# source = show_authors(\"https://www.researchgate.net/publication/293012925_On_the_stability_of_an_Al-fumarate_MOF_and_its_potential_for_CO2_capture_from_wet_stream\").page_source\n",
    "# soup_it(source)\n",
    "\n",
    "source = search_paper(\"10.1021/acs.iecr.5b03509\")"
   ]
  },
  {
   "cell_type": "code",
   "execution_count": 19,
   "metadata": {},
   "outputs": [
    {
     "name": "stdout",
     "output_type": "stream",
     "text": [
      "DONE - 2.0393283367156982\n"
     ]
    }
   ],
   "source": [
    "searched = show_authors(source)"
   ]
  },
  {
   "cell_type": "code",
   "execution_count": null,
   "metadata": {},
   "outputs": [],
   "source": [
    "soup_it(searched.page_source)"
   ]
  },
  {
   "cell_type": "code",
   "execution_count": 9,
   "metadata": {},
   "outputs": [],
   "source": [
    "def obtain_author_researchgate(website_url):\n",
    "    request = urllib.request.Request(\n",
    "        url = website_url,\n",
    "        data = None,\n",
    "        headers = {\n",
    "            'User-Agent': 'Mozilla/5.0 (X11; Ubuntu; Linux x86_64; rv:67.0) Gecko/20100101 Firefox/67.0'\n",
    "        }\n",
    "    )\n",
    "\n",
    "    testurl = urllib.request.urlopen(request)\n",
    "    soup = BeautifulSoup(testurl, 'html.parser')\n",
    "\n",
    "    thing = soup.find_all('div', {\"class\": \"nova-e-text nova-e-text--size-m nova-e-text--family-sans-serif nova-e-text--spacing-none nova-e-text--color-inherit nova-e-text--clamp nova-v-person-list-item__title\"})\n",
    "    for stuff in thing:\n",
    "        print(stuff.find('a').get(\"href\"))"
   ]
  }
 ],
 "metadata": {
  "kernelspec": {
   "display_name": "Python 3",
   "language": "python",
   "name": "python3"
  },
  "language_info": {
   "codemirror_mode": {
    "name": "ipython",
    "version": 3
   },
   "file_extension": ".py",
   "mimetype": "text/x-python",
   "name": "python",
   "nbconvert_exporter": "python",
   "pygments_lexer": "ipython3",
   "version": "3.7.3"
  }
 },
 "nbformat": 4,
 "nbformat_minor": 2
}

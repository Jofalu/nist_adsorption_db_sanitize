{
 "cells": [
  {
   "cell_type": "code",
   "execution_count": 16,
   "metadata": {},
   "outputs": [],
   "source": [
    "from pprint import pprint\n",
    "import urllib\n",
    "from bs4 import BeautifulSoup\n",
    "from webdriver_manager.firefox import GeckoDriverManager\n",
    "import time\n",
    "import sys\n",
    "import datetime\n",
    "\n",
    "from selenium import webdriver\n",
    "from selenium.common.exceptions import TimeoutException\n",
    "from selenium.webdriver.firefox.options import Options\n",
    "from selenium.webdriver.support.ui import WebDriverWait\n",
    "from selenium.webdriver.support import expected_conditions as EC\n",
    "from selenium.webdriver.common.by import By"
   ]
  },
  {
   "cell_type": "code",
   "execution_count": 29,
   "metadata": {},
   "outputs": [],
   "source": [
    "def obtain_driver(url):\n",
    "    \"\"\"\n",
    "    Given a URL string, opens the URL in a headless Firefox instance. \n",
    "    \n",
    "    Returns a reference to the webdriver object\n",
    "    \"\"\"\n",
    "    \n",
    "    buttons = []\n",
    "    driver_options = Options()\n",
    "#     driver_options.headless = True\n",
    "    \n",
    "    print(\"\\n\\n*****\" + str(datetime.datetime.now()) + \"*****\")\n",
    "    \n",
    "    driver = webdriver.Firefox(options=driver_options, executable_path=GeckoDriverManager().install())\n",
    "    \n",
    "    # WARNING, THIS IS SPECIFIC TO THIS MACHINE (retrieves the installed uBlock Origin from the Firefox on this computer.) Need a computer-agnostic way.\n",
    "    driver.install_addon(\"~/.mozilla/firefox/f4t6w0s5.default-release/extensions/uBlock0@raymondhill.net.xpi\", temporary=True)\n",
    "\n",
    "    driver.get(url)\n",
    "    \n",
    "    time.sleep(.5)\n",
    "    \n",
    "    return driver"
   ]
  },
  {
   "cell_type": "code",
   "execution_count": 18,
   "metadata": {},
   "outputs": [],
   "source": [
    "def click_and_wait(driver, element, find_elements_by):\n",
    "    \"\"\" \n",
    "    Clicks on element and waits for a page load. \n",
    "    \n",
    "    driver == webdriver, element == string (class or css_selector), find_elements_by == integer\n",
    "    find_elements_by: 0 for css_selector, 1 for class_name\n",
    "    \"\"\"\n",
    "    \n",
    "    try:\n",
    "        if find_elements_by == 0:\n",
    "            button = driver.find_element_by_css_selector(element)\n",
    "        else:\n",
    "            button = driver.find_element_by_class_name(element)\n",
    "            \n",
    "        driver.execute_script(\"arguments[0].click()\", button)\n",
    "    except:\n",
    "        print(\"No button\")\n",
    "        \n",
    "    old_driver = driver.find_element_by_tag_name('html')\n",
    "    \n",
    "    WebDriverWait(driver, 10).until(EC.staleness_of(old_driver))"
   ]
  },
  {
   "cell_type": "code",
   "execution_count": 19,
   "metadata": {},
   "outputs": [],
   "source": [
    "def search_paper(doi, driver):\n",
    "    \"\"\"\n",
    "    Given a DOI, uses obtain_driver to open up the search site and search the DOI to open up the paper in the page. \n",
    "    \n",
    "    Returns the webdriver associated with it.\n",
    "    \"\"\"\n",
    "\n",
    "    if \"www.researchgate.net/search\" in driver.current_url:\n",
    "        search_input = \"search-form__input\"\n",
    "        search_button = \"search-form__left-button\"\n",
    "    else:\n",
    "        search_input = \"lite-page__header-search-input\"\n",
    "        search_button = \"lite-page__header-search-button\"\n",
    "    \n",
    "    print(\"\\n---\" + \"New search \" + str(datetime.datetime.now()) + \"---\")\n",
    "    print(\"DOI: \" + doi)\n",
    "    \n",
    "    \n",
    "    search_field_list = driver.find_element_by_class_name(search_input)\n",
    "    time.sleep(.25) # added for stability\n",
    "    search_field = search_field_list\n",
    "    time.sleep(.25)\n",
    "    search_field.clear()\n",
    "    time.sleep(.25)\n",
    "    search_field.send_keys(doi)\n",
    "    \n",
    "    enter_field = driver.find_element_by_class_name(search_button)\n",
    "    driver.execute_script(\"arguments[0].click()\", enter_field)\n",
    "    \n",
    "    old_driver = driver.find_element_by_tag_name('html')\n",
    "    WebDriverWait(driver, 10).until(EC.staleness_of(old_driver))\n",
    "  \n",
    "    click_and_wait(driver, \"a[href*='search/data']\", 0)\n",
    "    \n",
    "    if \"www.researchgate.net/search\" in driver.current_url:\n",
    "        print(\"Paper not found (search)\")\n",
    "        return None\n",
    "    else: \n",
    "        print(\"Success\")\n",
    "        return driver"
   ]
  },
  {
   "cell_type": "code",
   "execution_count": 20,
   "metadata": {},
   "outputs": [],
   "source": [
    "def show_authors(driver): \n",
    "    \"\"\"\n",
    "    Given the webdriver, shows more authors. \n",
    "    \n",
    "    Returns the modified webdriver.\n",
    "    \"\"\"\n",
    "    \n",
    "    if not driver:\n",
    "        print(\"Exiting: No driver\")\n",
    "        return None\n",
    "    \n",
    "    first_start = time.time()\n",
    "    \n",
    "    try:\n",
    "        button = driver.find_element_by_class_name(\"show-more-authors\")\n",
    "        driver.execute_script(\"arguments[0].click()\", button)\n",
    "    except:\n",
    "        print(\"No button\")\n",
    "    \n",
    "    first_end = time.time()\n",
    "\n",
    "    print(\"DONE - \" + str(first_end-first_start))\n",
    "\n",
    "    return driver"
   ]
  },
  {
   "cell_type": "code",
   "execution_count": 53,
   "metadata": {},
   "outputs": [],
   "source": [
    "def soup_it(driver, author_tokens, pairing_dict, author_id):\n",
    "    \"\"\"Given the webdriver, parses its source for author URLs.\"\"\"    \n",
    "    \n",
    "    time.sleep(.5)\n",
    "    \n",
    "    if driver is None:\n",
    "        print(\"No soup for you\")\n",
    "        return 0\n",
    "    \n",
    "    soup = BeautifulSoup(driver.page_source, 'html.parser')\n",
    "\n",
    "    thing = soup.find_all('div', {\"class\": \"nova-e-text nova-e-text--size-m nova-e-text--family-sans-serif nova-e-text--spacing-none nova-e-text--color-inherit nova-e-text--clamp nova-v-person-list-item__title\"})\n",
    "    for stuff in thing:\n",
    "        author_url = stuff.find('a').get(\"href\")\n",
    "        \n",
    "        if author_tokens[0][0] in author_url and author_tokens[2] in author_url:\n",
    "            print(str(author_url) + \" <-------------\")\n",
    "            pairing_dict[author_id] = author_url\n",
    "        else:\n",
    "            print(author_url)\n",
    "#         if len(author_tokens) == 1:\n",
    "#             if author_tokens[0] in author_url:\n",
    "#                 print(str(author_url) + \" <-------------\")\n",
    "#         elif len(author_tokens) == 2:\n",
    "#             if author_tokens[0][0] in author_url and author_tokens[1] in author_url:\n",
    "#                 print(str(author_url) + \" <-------------\")\n",
    "\n",
    "    return 1"
   ]
  },
  {
   "cell_type": "code",
   "execution_count": 22,
   "metadata": {},
   "outputs": [],
   "source": [
    "# original_file_descriptor = sys.stdout"
   ]
  },
  {
   "cell_type": "code",
   "execution_count": 23,
   "metadata": {},
   "outputs": [],
   "source": [
    "# sys.stdout = open(\"./scraping_log.txt\", \"a\")"
   ]
  },
  {
   "cell_type": "code",
   "execution_count": 24,
   "metadata": {},
   "outputs": [],
   "source": [
    "# sys.stdout = original_file_descriptor"
   ]
  },
  {
   "cell_type": "code",
   "execution_count": 25,
   "metadata": {},
   "outputs": [],
   "source": [
    "with open(\"./stored_authors/authors_and_papers.txt\", encoding=\"utf8\") as papers_file:\n",
    "    authors_and_papers = eval(papers_file.read())"
   ]
  },
  {
   "cell_type": "code",
   "execution_count": 27,
   "metadata": {},
   "outputs": [],
   "source": [
    "with open(\"./stored_authors/authors_ids.txt\", encoding=\"utf8\") as authors_file:\n",
    "    authors_ids = eval(authors_file.read())"
   ]
  },
  {
   "cell_type": "code",
   "execution_count": 34,
   "metadata": {},
   "outputs": [],
   "source": [
    "authors_urls = {}\n",
    "\n",
    "for author in authors_and_papers:\n",
    "    authors_urls[author] = None"
   ]
  },
  {
   "cell_type": "code",
   "execution_count": 54,
   "metadata": {},
   "outputs": [
    {
     "name": "stdout",
     "output_type": "stream",
     "text": [
      "\n",
      "\n",
      "*****2019-06-24 14:09:20.530241*****\n",
      "\n",
      "Checking for linux64 geckodriver:v0.24.0 in cache\n",
      "Driver found in /home/local/NIST/jfl2/.wdm/geckodriver/v0.24.0/linux64/geckodriver\n",
      "\n",
      "---New search 2019-06-24 14:09:31.146180---\n",
      "DOI: 10.1016/j.coal.2014.07.010\n",
      "Success\n",
      "DONE - 0.054303884506225586\n",
      "https://www.researchgate.net/scientific-contributions/2029950269_Matus_Gasparik\n",
      "https://www.researchgate.net/profile/Thomas_Rexer\n",
      "https://www.researchgate.net/scientific-contributions/2089199367_Andrew_C_Aplin\n",
      "https://www.researchgate.net/profile/Pierre_Billemont\n",
      "https://www.researchgate.net/profile/Guy_De_Weireld\n",
      "https://www.researchgate.net/profile/Y_Gensterblum <-------------\n",
      "https://www.researchgate.net/profile/Mathieu_Henry\n",
      "https://www.researchgate.net/profile/Bernhard_Krooss\n",
      "https://www.researchgate.net/profile/Shaobo_Liu5\n",
      "https://www.researchgate.net/profile/Xingzhi_Ma\n",
      "https://www.researchgate.net/profile/Richard_Sakurovs\n",
      "https://www.researchgate.net/profile/Zhiguang_Song\n",
      "https://www.researchgate.net/scientific-contributions/2052790988_Gregory_Staib\n",
      "https://www.researchgate.net/profile/Keith_Thomas3\n",
      "https://www.researchgate.net/profile/Sibo_Wang8\n",
      "https://www.researchgate.net/profile/Tongwei_Zhang\n",
      "0000-0001-6082-5862\n",
      "\n",
      "---New search 2019-06-24 14:09:35.073101---\n",
      "DOI: 10.1039/c4ta05225k\n",
      "Success\n",
      "DONE - 0.05223965644836426\n",
      "https://www.researchgate.net/profile/Surendar_reddy_Venna\n",
      "https://www.researchgate.net/profile/Michael_Lartey6\n",
      "https://www.researchgate.net/profile/Tao_Li73 <-------------\n",
      "https://www.researchgate.net/scientific-contributions/2065445495_Alex_Spore\n",
      "0000-0001-7586-9841\n",
      "\n",
      "---New search 2019-06-24 14:09:39.028789---\n",
      "DOI: 10.1002/cplu.201600259\n",
      "Success\n",
      "No button\n",
      "DONE - 0.014655351638793945\n",
      "https://www.researchgate.net/scientific-contributions/2042902761_Hao_Wang\n",
      "https://www.researchgate.net/scientific-contributions/39528506_Xin-Long_Wang\n",
      "https://www.researchgate.net/scientific-contributions/2052162429_Jing_Li <-------------\n",
      "0000-0001-7792-4322\n",
      "\n",
      "---New search 2019-06-24 14:09:42.572043---\n",
      "DOI: 10.1039/c5ee00808e\n",
      "Success\n",
      "DONE - 0.0547487735748291\n",
      "https://www.researchgate.net/profile/Hongda_Zhang2\n",
      "https://www.researchgate.net/profile/Pravas_Deria <-------------\n",
      "https://www.researchgate.net/profile/Omar_Farha\n",
      "https://www.researchgate.net/profile/Joseph_Hupp\n",
      "https://www.researchgate.net/scientific-contributions/14955030_Randall_Q_Snurr\n",
      "0000-0001-7998-4492\n"
     ]
    }
   ],
   "source": [
    "driver = obtain_driver(\"https://www.researchgate.net/search\")\n",
    "time.sleep(1)\n",
    "\n",
    "for author in sorted(author_urls)[:4]:\n",
    "    soup_it(show_authors(search_paper(authors_and_papers[author][0], driver)), authors_ids[author], authors_urls, author)\n",
    "    print(author)\n",
    "    time.sleep(.5)\n",
    "\n",
    "driver.quit()"
   ]
  },
  {
   "cell_type": "code",
   "execution_count": 55,
   "metadata": {},
   "outputs": [
    {
     "name": "stdout",
     "output_type": "stream",
     "text": [
      "0000-0001-6082-5862\n",
      "https://www.researchgate.net/profile/Y_Gensterblum\n",
      "0000-0001-7586-9841\n",
      "https://www.researchgate.net/profile/Tao_Li73\n",
      "0000-0001-7792-4322\n",
      "https://www.researchgate.net/scientific-contributions/2052162429_Jing_Li\n",
      "0000-0001-7998-4492\n",
      "https://www.researchgate.net/profile/Pravas_Deria\n"
     ]
    }
   ],
   "source": [
    "for author in sorted(authors_urls)[:4]:\n",
    "    print(author)\n",
    "    print(authors_urls[author])\n",
    "    "
   ]
  },
  {
   "cell_type": "code",
   "execution_count": 49,
   "metadata": {},
   "outputs": [
    {
     "name": "stdout",
     "output_type": "stream",
     "text": [
      "997\n"
     ]
    }
   ],
   "source": [
    "print(len(authors_urls))"
   ]
  },
  {
   "cell_type": "code",
   "execution_count": null,
   "metadata": {},
   "outputs": [],
   "source": [
    "with open(\"./stored_authors/author_url_pairings.txt\", \"w\") as dup_file:\n",
    "    pprint(author_urls, stream = dup_file)"
   ]
  },
  {
   "cell_type": "code",
   "execution_count": null,
   "metadata": {},
   "outputs": [],
   "source": [
    "# Testing cell\n",
    "\n",
    "overall_first_time = time.time()\n",
    "\n",
    "driver = obtain_driver(\"https://www.researchgate.net/search\")\n",
    "time.sleep(1)\n",
    "\n",
    "\n",
    "# doi_list = [\"10.1021/acs.iecr.5b03509\", \"10.1007/s10450-014-9639-3\", \"10.1002/adfm.200500563\", \"10.1002/adfm.200500561\", \"10.1002/adfm.200500563\"]\n",
    "# source = search_paper(\"10.1021/acs.iecr.5b03509\", driver)   # 6 authors\n",
    "# source = search_paper(\"10.1007/s10450-014-9639-3\", driver)  # 9 authors\n",
    "# source = search_paper(\"10.1002/adfm.200500561\", driver)     # 4 authors\n",
    "# source = search_paper(\"10.1002/adfm.200500563\")     # doesn't exist\n",
    "doi_list = ['10.1016/j.carbon.2009.06.046', '10.1016/j.coal.2004.05.002', '10.1016/j.coal.2005.07.003', '10.1016/j.coal.2007.01.005', '10.1016/j.coal.2010.08.013', '10.1016/s0166-5162(02)00078-2', '10.1016/s0375-6742(03)00122-5']\n",
    "\n",
    "for doi in doi_list:\n",
    "    soup_it(show_authors(search_paper(doi, driver)), \"Gensterblum\")\n",
    "    time.sleep(.8)\n",
    "\n",
    "driver.quit()\n",
    "\n",
    "final_time = time.time() - overall_first_time\n",
    "print(final_time)"
   ]
  }
 ],
 "metadata": {
  "kernelspec": {
   "display_name": "Python 3",
   "language": "python",
   "name": "python3"
  },
  "language_info": {
   "codemirror_mode": {
    "name": "ipython",
    "version": 3
   },
   "file_extension": ".py",
   "mimetype": "text/x-python",
   "name": "python",
   "nbconvert_exporter": "python",
   "pygments_lexer": "ipython3",
   "version": "3.7.3"
  }
 },
 "nbformat": 4,
 "nbformat_minor": 2
}

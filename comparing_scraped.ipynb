{
 "cells": [
  {
   "cell_type": "code",
   "execution_count": 60,
   "metadata": {},
   "outputs": [],
   "source": [
    "from pprint import pprint\n",
    "import re"
   ]
  },
  {
   "cell_type": "code",
   "execution_count": 2,
   "metadata": {},
   "outputs": [],
   "source": [
    "with open(\"./stored_authors/author_url_pairings.txt\", encoding=\"utf8\") as pairings_file:\n",
    "    author_url_pairings = eval(pairings_file.read())"
   ]
  },
  {
   "cell_type": "code",
   "execution_count": 7,
   "metadata": {},
   "outputs": [],
   "source": [
    "with open(\"./stored_authors/unknown_authors.txt\") as unknowns_file:\n",
    "    unknown_authors = eval(unknowns_file.read())"
   ]
  },
  {
   "cell_type": "code",
   "execution_count": 64,
   "metadata": {},
   "outputs": [],
   "source": [
    "with open(\"./stored_authors/duplicate_authors.txt\") as duplicates_file:\n",
    "    duplicate_authors = eval(duplicates_file.read())"
   ]
  },
  {
   "cell_type": "code",
   "execution_count": 24,
   "metadata": {},
   "outputs": [],
   "source": [
    "unknown_pairing = {}\n",
    "\n",
    "for unknown in unknown_authors:\n",
    "    unknown_pairing[unknown] = None"
   ]
  },
  {
   "cell_type": "code",
   "execution_count": 78,
   "metadata": {},
   "outputs": [],
   "source": [
    "# Used for reference when checking for authors in duplicate list\n",
    "\n",
    "unpacked_duplicates = set()\n",
    "for author_list in duplicate_authors.values():\n",
    "    for author in author_list:\n",
    "        unpacked_duplicates.add(author)"
   ]
  },
  {
   "cell_type": "code",
   "execution_count": 80,
   "metadata": {},
   "outputs": [],
   "source": [
    "duplicate_pairing = {}\n",
    "\n",
    "for author, url in author_url_pairings.items():\n",
    "    if author in unpacked_duplicates:\n",
    "        duplicate_pairing[url] = []"
   ]
  },
  {
   "cell_type": "code",
   "execution_count": 82,
   "metadata": {},
   "outputs": [],
   "source": [
    "# pprint(duplicate_pairing)"
   ]
  },
  {
   "cell_type": "code",
   "execution_count": 102,
   "metadata": {},
   "outputs": [],
   "source": [
    "def pair_scraped_unknown(author_dictionary, out_dict):\n",
    "    for author, pair in author_dictionary.items():\n",
    "        \n",
    "        if author in author_url_pairings:\n",
    "            author_url = author_url_pairings[author]\n",
    "        else:\n",
    "            author_url = \"no\"\n",
    "    \n",
    "        found = \"Unique\"\n",
    "        for pair_id in pair:\n",
    "            pair_url = author_url_pairings[pair_id]\n",
    "\n",
    "            if author_url ==  pair_url:\n",
    "                found = pair_id\n",
    "        out_dict[author] = found"
   ]
  },
  {
   "cell_type": "code",
   "execution_count": 85,
   "metadata": {},
   "outputs": [],
   "source": [
    "def pair_scraped_duplicate(author_dictionary, out_dict):\n",
    "    for author, pair in author_dictionary.items():\n",
    "        for pair_id in pair:\n",
    "            out_dict[author_url_pairings[pair_id]].append(pair_id)"
   ]
  },
  {
   "cell_type": "code",
   "execution_count": 103,
   "metadata": {},
   "outputs": [],
   "source": [
    "pair_scraped_unknown(unknown_authors, unknown_pairing)"
   ]
  },
  {
   "cell_type": "code",
   "execution_count": 86,
   "metadata": {},
   "outputs": [],
   "source": [
    "pair_scraped_duplicate(duplicate_authors, duplicate_pairing)"
   ]
  }
 ],
 "metadata": {
  "kernelspec": {
   "display_name": "Python 3",
   "language": "python",
   "name": "python3"
  },
  "language_info": {
   "codemirror_mode": {
    "name": "ipython",
    "version": 3
   },
   "file_extension": ".py",
   "mimetype": "text/x-python",
   "name": "python",
   "nbconvert_exporter": "python",
   "pygments_lexer": "ipython3",
   "version": "3.7.3"
  }
 },
 "nbformat": 4,
 "nbformat_minor": 2
}

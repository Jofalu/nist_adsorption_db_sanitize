{
 "cells": [
  {
   "cell_type": "code",
   "execution_count": 144,
   "metadata": {},
   "outputs": [],
   "source": [
    "from pprint import pprint\n",
    "import re"
   ]
  },
  {
   "cell_type": "code",
   "execution_count": 187,
   "metadata": {},
   "outputs": [
    {
     "name": "stdout",
     "output_type": "stream",
     "text": [
      "40\n"
     ]
    }
   ],
   "source": [
    "print(re.search(r'\\d+', \"yee40haw30\").group(0))"
   ]
  },
  {
   "cell_type": "code",
   "execution_count": 145,
   "metadata": {},
   "outputs": [],
   "source": [
    "with open(\"./stored_authors/author_url_pairings.txt\", encoding=\"utf8\") as pairings_file:\n",
    "    author_url_pairings = eval(pairings_file.read())"
   ]
  },
  {
   "cell_type": "code",
   "execution_count": 146,
   "metadata": {},
   "outputs": [],
   "source": [
    "with open(\"./stored_authors/unknown_authors.txt\") as unknowns_file:\n",
    "    unknown_authors = eval(unknowns_file.read())"
   ]
  },
  {
   "cell_type": "code",
   "execution_count": 147,
   "metadata": {},
   "outputs": [],
   "source": [
    "with open(\"./stored_authors/duplicate_authors.txt\") as duplicates_file:\n",
    "    duplicate_authors = eval(duplicates_file.read())"
   ]
  },
  {
   "cell_type": "code",
   "execution_count": 148,
   "metadata": {},
   "outputs": [],
   "source": [
    "unknown_pairing = {}\n",
    "\n",
    "for unknown in unknown_authors:\n",
    "    unknown_pairing[unknown] = None"
   ]
  },
  {
   "cell_type": "code",
   "execution_count": 149,
   "metadata": {},
   "outputs": [],
   "source": [
    "# Used for reference when checking for authors in duplicate list\n",
    "\n",
    "unpacked_duplicates = set()\n",
    "for author_list in duplicate_authors.values():\n",
    "    for author in author_list:\n",
    "        unpacked_duplicates.add(author)\n",
    "        \n",
    "sorted_unpacked_duplicates = sorted(list(unpacked_duplicates))\n"
   ]
  },
  {
   "cell_type": "code",
   "execution_count": 150,
   "metadata": {},
   "outputs": [],
   "source": [
    "# pprint(sorted_unpacked_duplicates)"
   ]
  },
  {
   "cell_type": "code",
   "execution_count": 151,
   "metadata": {},
   "outputs": [],
   "source": [
    "duplicate_pairing = {}\n",
    "\n",
    "for author, url in author_url_pairings.items():\n",
    "    if author in sorted_unpacked_duplicates:\n",
    "        duplicate_pairing[url] = []"
   ]
  },
  {
   "cell_type": "code",
   "execution_count": 152,
   "metadata": {},
   "outputs": [],
   "source": [
    "# pprint(duplicate_pairing)"
   ]
  },
  {
   "cell_type": "code",
   "execution_count": 167,
   "metadata": {},
   "outputs": [],
   "source": [
    "def pair_scraped_unknown(author_dictionary, out_dict):\n",
    "    for author, pair in author_dictionary.items():\n",
    "        \n",
    "        if author in author_url_pairings:\n",
    "            author_url = author_url_pairings[author]\n",
    "        else:\n",
    "            author_url = \"no\"\n",
    "        \n",
    "#         print(\"-----new iteration-----\")\n",
    "#         print(author)\n",
    "#         print(author_url) # \n",
    "#         print(\"--end of author url--\")\n",
    "        \n",
    "        found = \"Unique\"\n",
    "        for pair_id in pair:\n",
    "            pair_url = author_url_pairings[pair_id]\n",
    "            \n",
    "#             print(pair_url) #\n",
    "            if \"contributions\" in author_url and \"contributions\" in pair_url:\n",
    "                author_num = re.search(r\"\\d+\", author_url).group(0)\n",
    "                pair_num = re.search(r\"\\d+\", pair_url).group(0)\n",
    "                if author_num == pair_num:\n",
    "                    found = pair_id\n",
    "            elif author_url ==  pair_url:\n",
    "                found = pair_id\n",
    "        out_dict[author] = found"
   ]
  },
  {
   "cell_type": "code",
   "execution_count": 188,
   "metadata": {},
   "outputs": [],
   "source": [
    "def pair_scraped_duplicate(author_dictionary, out_dict):\n",
    "    for author, pair in author_dictionary.items():\n",
    "        for pair_id in pair:\n",
    "            out_dict[author_url_pairings[pair_id]].append(pair_id)"
   ]
  },
  {
   "cell_type": "code",
   "execution_count": 168,
   "metadata": {},
   "outputs": [],
   "source": [
    "pair_scraped_unknown(unknown_authors, unknown_pairing)"
   ]
  },
  {
   "cell_type": "code",
   "execution_count": 189,
   "metadata": {},
   "outputs": [],
   "source": [
    "pair_scraped_duplicate(duplicate_authors, duplicate_pairing)"
   ]
  },
  {
   "cell_type": "code",
   "execution_count": 169,
   "metadata": {},
   "outputs": [],
   "source": [
    "# pprint(unknown_pairing)"
   ]
  },
  {
   "cell_type": "code",
   "execution_count": null,
   "metadata": {},
   "outputs": [],
   "source": [
    "# pprint(duplicate_pairing)"
   ]
  }
 ],
 "metadata": {
  "kernelspec": {
   "display_name": "Python 3",
   "language": "python",
   "name": "python3"
  },
  "language_info": {
   "codemirror_mode": {
    "name": "ipython",
    "version": 3
   },
   "file_extension": ".py",
   "mimetype": "text/x-python",
   "name": "python",
   "nbconvert_exporter": "python",
   "pygments_lexer": "ipython3",
   "version": "3.7.3"
  }
 },
 "nbformat": 4,
 "nbformat_minor": 2
}

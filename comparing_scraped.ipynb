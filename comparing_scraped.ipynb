{
 "cells": [
  {
   "cell_type": "code",
   "execution_count": 3,
   "metadata": {},
   "outputs": [],
   "source": [
    "from pprint import pprint\n",
    "import re"
   ]
  },
  {
   "cell_type": "code",
   "execution_count": 4,
   "metadata": {},
   "outputs": [],
   "source": [
    "with open(\"./stored_authors/author_url_pairings.txt\", encoding=\"utf8\") as pairings_file:\n",
    "    author_url_pairings = eval(pairings_file.read())"
   ]
  },
  {
   "cell_type": "code",
   "execution_count": 5,
   "metadata": {},
   "outputs": [],
   "source": [
    "with open(\"./stored_authors/unknown_authors.txt\") as unknowns_file:\n",
    "    unknown_authors = eval(unknowns_file.read())"
   ]
  },
  {
   "cell_type": "code",
   "execution_count": 6,
   "metadata": {},
   "outputs": [],
   "source": [
    "with open(\"./stored_authors/duplicate_authors.txt\") as duplicates_file:\n",
    "    duplicate_authors = eval(duplicates_file.read())"
   ]
  },
  {
   "cell_type": "code",
   "execution_count": 7,
   "metadata": {},
   "outputs": [],
   "source": [
    "# Used for reference when checking for authors in duplicate list\n",
    "\n",
    "unpacked_duplicates = set()\n",
    "for author_list in duplicate_authors.values():\n",
    "    for author in author_list:\n",
    "        unpacked_duplicates.add(author)\n",
    "        \n",
    "sorted_unpacked_duplicates = sorted(list(unpacked_duplicates))\n"
   ]
  },
  {
   "cell_type": "code",
   "execution_count": 8,
   "metadata": {},
   "outputs": [],
   "source": [
    "# pprint(sorted_unpacked_duplicates)"
   ]
  },
  {
   "cell_type": "code",
   "execution_count": 9,
   "metadata": {},
   "outputs": [],
   "source": [
    "unknown_pairing = {}\n",
    "\n",
    "for unknown in unknown_authors:\n",
    "    unknown_pairing[unknown] = None\n",
    "\n",
    "# pair_scraped_unknown(unknown_authors, unknown_pairing)\n",
    "\n",
    "h_likely = [] # Highly likely, unknowns that have matches\n",
    "possible = [] # Moderately likely, the ones whose possible matches have similar characters\n",
    "unlikely = [] # Unlikely, few matching characters\n",
    "\n",
    "for author, pair in unknown_authors.items():\n",
    "\n",
    "    if author in author_url_pairings:\n",
    "        author_url = author_url_pairings[author]\n",
    "    else:\n",
    "        author_url = \"no\"\n",
    "\n",
    "#     print(\"-----new iteration-----\")\n",
    "#     print(author)\n",
    "#     print(author_url) # \n",
    "#     print(\"--end of author url--\")\n",
    "\n",
    "    found = \"Unsure\"\n",
    "    for pair_id in pair:\n",
    "        pair_url = author_url_pairings[pair_id]\n",
    "\n",
    "#         print(pair_url) #\n",
    "\n",
    "        if \"contributions\" in author_url and \"contributions\" in pair_url:\n",
    "            author_num = re.search(r\"\\d+\", author_url).group(0)\n",
    "            pair_num = re.search(r\"\\d+\", pair_url).group(0)\n",
    "            if author_num == pair_num:\n",
    "                found = pair_id\n",
    "                h_likely.append([author, pair_id])\n",
    "\n",
    "#                 print(\"yes!\") #\n",
    "\n",
    "        elif author_url ==  pair_url:\n",
    "            found = pair_id\n",
    "\n",
    "#             print(\"yes!\") #\n",
    "\n",
    "    unknown_pairing[author] = found"
   ]
  },
  {
   "cell_type": "code",
   "execution_count": 11,
   "metadata": {},
   "outputs": [
    {
     "name": "stdout",
     "output_type": "stream",
     "text": [
      "[['0d853b61e5fab5c307961edfe4161eac73936c04',\n",
      "  '5fad00e089988f39a9e20dd283cd2d1963b1dbb9'],\n",
      " ['1f5e77fb6eae60e5697b47a51a28135a54218fe3',\n",
      "  'bcdaffee924e8a8f5c4f85576b0be66c4c621603'],\n",
      " ['261d4cefe788ce8950675624f76fe3b0bf2f42bb',\n",
      "  'a443e241a9d1dfa6bf34643f71be2c8bab1ea12e'],\n",
      " ['2ad7d292f106360de8d0d3374b38249d3e1fabcb',\n",
      "  '66bd6e2a22a84008b43ca6f41252251564e1b3a2'],\n",
      " ['34920abb810793267ab8f76e801feacff38f270f',\n",
      "  '926d407a555591144571817f55d07c14ffa24f13'],\n",
      " ['440336c9743eb61828c50fd9976605b7f825dd34',\n",
      "  '6bc95e425f0ac28caa0a4a7a7992cb8225f4289b'],\n",
      " ['49d55b33ee29beb4758fd5e569504db29ac77a27',\n",
      "  'df4b20c3081113f1e2b6dac1dd019107e4a9248e'],\n",
      " ['4ed09a2248ccb222088792dc27adbfefed14570e',\n",
      "  '06da5287c7fe7be0d6b133f6bfc0ee21d2dcc417'],\n",
      " ['52db2c7849175bcef1a5ca2e8da61e212b2109b3',\n",
      "  'fa0f65d6ee08be2b510169c5738b78f4be538742'],\n",
      " ['58bab844f4d1e2f62440d5c98711590c8c6c1ec1',\n",
      "  '4bfc4f702709467c98a9a83776f214a668345943'],\n",
      " ['5d59ab4c8a8b18af0136d539e397cf744e06e577',\n",
      "  'd40adc7e6b5d0ee961dd93862ca7c29f6943f3e6'],\n",
      " ['5fcc25f0d7a9a3c612dd1c490bc5be60fbd54a9f',\n",
      "  'ee52f232f819959396e023cacd217cf9059b0beb'],\n",
      " ['60b1e26fd6b8168a07d0ecdde5ee4128fdd336e2',\n",
      "  'e68620e61668d2b6f9104a6189698250670a828b'],\n",
      " ['63d5483dc56453fcec9ec6623dcb7af6be7d9597',\n",
      "  'f95ba459c6a92bc7a632155bed7684f13ce0f543'],\n",
      " ['65db577feca6dea21ff7d5bf02613d0a02e3c7da',\n",
      "  'cf52f2f49c2164eb33530ae22b11eb7996df4b5e'],\n",
      " ['6c7771896a8c95948f99c2132ed11c01c8146a3d',\n",
      "  '64dbff6304e5a7fb80784e678eb6e19464791f80'],\n",
      " ['6c7771896a8c95948f99c2132ed11c01c8146a3d',\n",
      "  'a6ec8ac36e50d6b37057a103b0ef45aca4c8c5c5'],\n",
      " ['75dc757852ded186f04bf13eae66c53803db5c82',\n",
      "  '6517995a99763fe7f2bd80ac3a5672518323910f'],\n",
      " ['762c3a1fd36c4e5f9ce269bff83eec169f991a02',\n",
      "  '778f4eb01ada8ecbadfa975f2af019500f6685de'],\n",
      " ['762c3a1fd36c4e5f9ce269bff83eec169f991a02',\n",
      "  'c5d18fa34d9d580c8e24e1ea34035555fb22356d'],\n",
      " ['77729de121b7d2dc8eef17f0ca2650dbb93ae597',\n",
      "  '06702cc5432d6bf9f37dd71f19e2b8b2a8d6f314'],\n",
      " ['7a99666619ff1d6a301c3a7dae5adb9c163eeff5',\n",
      "  'c5cbd51b3ec60757474d0694b0f60e217c894a14'],\n",
      " ['7b6a79fad4589c5932a7c64ed5e130f552513ea7',\n",
      "  '2f7f08123a7e442f215ab5b76b774785316c1db6'],\n",
      " ['858895246331e2714079a93ea1cd2060650e9687',\n",
      "  'dbe09c2e6c7fb461d9fe95bad7595abdb33ebc37'],\n",
      " ['85b7fbcf2a54b8dac39b98293391909f391fce02',\n",
      "  '4f4bd5dad80917c64b91315027d211d78251ad2c'],\n",
      " ['87f2c1e18438aa1c76b0120a8a8b6709c2c6f505',\n",
      "  '335eaad8553ff506b20db5de53e59e311af63eff'],\n",
      " ['892c5a5a5022096c40e6073fb5eb9adc8fc0e339',\n",
      "  '66d153096906b49c2e2e2fe7690199644217bd41'],\n",
      " ['897d8f7283ad2fbfde8b79252b4b8d68fc680e90',\n",
      "  '8538463de63028d96ad102cde37cae04448df746'],\n",
      " ['8aa6dc842388243fbddf0cf879dc26d43accac41',\n",
      "  '9c328e452d48dcaab088127b8c8bfef3abd938b3'],\n",
      " ['95cefcaa209c39504fb0e1fd6fd208cb48451bee',\n",
      "  '7da879cb2d2cc7305fcac209254d903b7cb0ab2e'],\n",
      " ['95f1bf7d79db23a55c6d8c155ecb3a6c2ec533ca',\n",
      "  'ba337d16893b2f523b525483081341fff359df11'],\n",
      " ['9c0f3ee9ca67b92cbf7e95a5d17462161c0024fc',\n",
      "  'a099ea9adc8ef5246f102747799e303325aed003'],\n",
      " ['a099ea9adc8ef5246f102747799e303325aed003',\n",
      "  '9c0f3ee9ca67b92cbf7e95a5d17462161c0024fc'],\n",
      " ['a0dc0f3ac6554d783ad28a668045aa484b59f301',\n",
      "  '1af07e75b7ef4dc98832612d1653da022b2013ad'],\n",
      " ['a96252d56e2ab8238724ab9f236ee53fec4552b0',\n",
      "  'bd2f9cddd76ac847ff3c76a8e7f1e2377c109ace'],\n",
      " ['ac66ef1e538e6946b9ff542a48e449484ad9f94d',\n",
      "  '6af551fa4698a63130e4e2f7704b4d30dd0d9f51'],\n",
      " ['af05e026bbb1f52dbca7bed9b2c4200035ee4af1',\n",
      "  'd102f36e499cbf91a8521180ec14aeb66e8aa62a'],\n",
      " ['b2e4a6a2e5bf9f53222c44cce98ac8cdaecbf104',\n",
      "  'bcf82cc1551d58f285f9f8e1b469fc6c1e751a10'],\n",
      " ['b362dc2090f861b77014e78a749a2bb3f4729c83',\n",
      "  '4946731cf674e845556c56116029dc72a0c034f2'],\n",
      " ['cc3824af599f47ec23979a9064a2661aefd3bf7a',\n",
      "  '7ae042493700a8d5c5dc651ad77122aad8f96e17'],\n",
      " ['d48d73bd7e6593bf903b43f54d40bc2321cbe45d',\n",
      "  'e30a38fede497b895c72271bd1871e680110f7fa'],\n",
      " ['d56850b5a6760bc640b55f23d5e6d32b012ef34d',\n",
      "  '40a546ca85aa44888518781d1c16558fea750070'],\n",
      " ['d5c528022f6eea6ecf287b412ef99245ce72d5dd',\n",
      "  '5f7f3a27b725ebb0583189c356e874cc24c4a339'],\n",
      " ['dc5e11bedeb8ed23d004f2ee6719de3a2d0ba770',\n",
      "  '978b30a4a035eeae0138515e737a3c29835ad44a'],\n",
      " ['dcbb494c406de6bc3a6dde184edf0e44fabafeb0',\n",
      "  'ea3b40a8503fe3cd0100b12a1072b2e04175e7ef'],\n",
      " ['dfe9bf68671e8c4594d4c887b51e3ba53e74e9ed',\n",
      "  'c7d55e8e20bef12b5b3d165740d5bbe658ef6ce4'],\n",
      " ['e219b8515492c586f0da27fe1189a92254d61be8',\n",
      "  'cc7a4de710174098f84ec2314ad6dca8859cdd0d'],\n",
      " ['e58d50633eae777b5b3f0dd93f949dcaef0bba78',\n",
      "  '1eb240e9d9a80a237afd8ef92100dbde8c0a37fc'],\n",
      " ['e995a9ec8d260fa063a244c50acdea719c81164f',\n",
      "  '7fe3e5a8695671e2c7327bb575729351f7e63e3c'],\n",
      " ['eed9271d6e37d2a16e2d1c4e571421c01d4e1bbe', '0000-0002-4662-8448'],\n",
      " ['eed9271d6e37d2a16e2d1c4e571421c01d4e1bbe',\n",
      "  'a7c760ed9fa9e1231fb26de6e4165f1e8821513c'],\n",
      " ['f5e3e2f183f9d2f460bd9de0f8bfbf74fbb4d5f6',\n",
      "  '4be7b41ba4bab6fb14f4f07d5a2d7ea5bbc8023a'],\n",
      " ['f88d5f342913e4719714c774b9c48fc391719817',\n",
      "  'e2303c31b90767dd8644cca72ff899831a35e403'],\n",
      " ['fdb915065e2b287cf0395100d9e782d26efa5549',\n",
      "  'd797cf6ed0fbc1ab8f065a88d0fd6e3919905a13'],\n",
      " ['ffc81fd625d992eb379f37dce8ba9677859fae54',\n",
      "  'a5554f161b2ad220755db3d8285ea5e0d6b8cfdc']]\n"
     ]
    }
   ],
   "source": [
    "pprint(h_likely)"
   ]
  },
  {
   "cell_type": "code",
   "execution_count": 234,
   "metadata": {},
   "outputs": [],
   "source": [
    "duplicate_pairing = {}\n",
    "\n",
    "for author, url in author_url_pairings.items():\n",
    "    if author in sorted_unpacked_duplicates:\n",
    "        duplicate_pairing[url] = []\n",
    "        \n",
    "# pair_scraped_duplicate(duplicate_authors, duplicate_pairing)\n",
    "\n",
    "for author, pair in duplicate_authors.items():\n",
    "    for pair_id in pair:\n",
    "        duplicate_pairing[author_url_pairings[pair_id]].append(pair_id)"
   ]
  },
  {
   "cell_type": "code",
   "execution_count": 1,
   "metadata": {},
   "outputs": [],
   "source": [
    "# pprint(unknown_pairing)"
   ]
  },
  {
   "cell_type": "code",
   "execution_count": 221,
   "metadata": {},
   "outputs": [],
   "source": [
    "# pprint(duplicate_pairing)"
   ]
  }
 ],
 "metadata": {
  "kernelspec": {
   "display_name": "Python 3",
   "language": "python",
   "name": "python3"
  },
  "language_info": {
   "codemirror_mode": {
    "name": "ipython",
    "version": 3
   },
   "file_extension": ".py",
   "mimetype": "text/x-python",
   "name": "python",
   "nbconvert_exporter": "python",
   "pygments_lexer": "ipython3",
   "version": "3.7.3"
  }
 },
 "nbformat": 4,
 "nbformat_minor": 2
}

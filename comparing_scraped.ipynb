{
 "cells": [
  {
   "cell_type": "code",
   "execution_count": 3,
   "metadata": {},
   "outputs": [],
   "source": [
    "from pprint import pprint\n",
    "import re"
   ]
  },
  {
   "cell_type": "code",
   "execution_count": 4,
   "metadata": {},
   "outputs": [],
   "source": [
    "with open(\"./stored_authors/author_url_pairings.txt\", encoding=\"utf8\") as pairings_file:\n",
    "    author_url_pairings = eval(pairings_file.read())"
   ]
  },
  {
   "cell_type": "code",
   "execution_count": 5,
   "metadata": {},
   "outputs": [],
   "source": [
    "with open(\"./stored_authors/unknown_authors.txt\") as unknowns_file:\n",
    "    unknown_authors = eval(unknowns_file.read())"
   ]
  },
  {
   "cell_type": "code",
   "execution_count": 6,
   "metadata": {},
   "outputs": [],
   "source": [
    "with open(\"./stored_authors/duplicate_authors.txt\") as duplicates_file:\n",
    "    duplicate_authors = eval(duplicates_file.read())"
   ]
  },
  {
   "cell_type": "code",
   "execution_count": 7,
   "metadata": {},
   "outputs": [],
   "source": [
    "# Used for reference when checking for authors in duplicate list\n",
    "\n",
    "unpacked_duplicates = set()\n",
    "for author_list in duplicate_authors.values():\n",
    "    for author in author_list:\n",
    "        unpacked_duplicates.add(author)\n",
    "        \n",
    "sorted_unpacked_duplicates = sorted(list(unpacked_duplicates))\n"
   ]
  },
  {
   "cell_type": "code",
   "execution_count": 8,
   "metadata": {},
   "outputs": [],
   "source": [
    "# pprint(sorted_unpacked_duplicates)"
   ]
  },
  {
   "cell_type": "code",
   "execution_count": 9,
   "metadata": {},
   "outputs": [],
   "source": [
    "h_likely = [] # Highly likely, unknowns that have matches\n",
    "possible = [] # Moderately likely, the ones whose possible matches have similar characters\n",
    "unlikely = [] # Unlikely, few matching characters\n",
    "\n",
    "unknown_pairing = {}\n",
    "for unknown in unknown_authors:\n",
    "    unknown_pairing[unknown] = None\n",
    "\n",
    "for author, pair in unknown_authors.items():\n",
    "\n",
    "    if author in author_url_pairings:\n",
    "        author_url = author_url_pairings[author]\n",
    "    else:\n",
    "        author_url = \"no\"\n",
    "\n",
    "#     print(\"-----new iteration-----\")\n",
    "#     print(author)\n",
    "#     print(author_url) # \n",
    "#     print(\"--end of author url--\")\n",
    "\n",
    "    found = \"Unsure\"\n",
    "    for pair_id in pair:\n",
    "        pair_url = author_url_pairings[pair_id]\n",
    "\n",
    "#         print(pair_url) #\n",
    "\n",
    "        if \"contributions\" in author_url and \"contributions\" in pair_url:\n",
    "            author_num = re.search(r\"\\d+\", author_url).group(0)\n",
    "            pair_num = re.search(r\"\\d+\", pair_url).group(0)\n",
    "            if author_num == pair_num:\n",
    "                found = pair_id\n",
    "                h_likely.append([author, pair_id])\n",
    "\n",
    "#                 print(\"yes!\") #\n",
    "\n",
    "        elif author_url ==  pair_url:\n",
    "            found = pair_id\n",
    "            h_likely.append([author, pair_id])\n",
    "\n",
    "#             print(\"yes!\") #\n",
    "\n",
    "    unknown_pairing[author] = found\n",
    "    \n",
    "duplicate_pairing = {}\n",
    "for author, url in author_url_pairings.items():\n",
    "    if author in sorted_unpacked_duplicates:\n",
    "        duplicate_pairing[url] = []\n",
    "        \n",
    "# pair_scraped_duplicate(duplicate_authors, duplicate_pairing)\n",
    "\n",
    "for author, pair in duplicate_authors.items():\n",
    "    for pair_id in pair:\n",
    "        duplicate_pairing[author_url_pairings[pair_id]].append(pair_id)"
   ]
  },
  {
   "cell_type": "code",
   "execution_count": 12,
   "metadata": {},
   "outputs": [],
   "source": [
    "# pprint(h_likely)"
   ]
  },
  {
   "cell_type": "code",
   "execution_count": 234,
   "metadata": {},
   "outputs": [],
   "source": []
  },
  {
   "cell_type": "code",
   "execution_count": 1,
   "metadata": {},
   "outputs": [],
   "source": [
    "# pprint(unknown_pairing)"
   ]
  },
  {
   "cell_type": "code",
   "execution_count": 221,
   "metadata": {},
   "outputs": [],
   "source": [
    "# pprint(duplicate_pairing)"
   ]
  }
 ],
 "metadata": {
  "kernelspec": {
   "display_name": "Python 3",
   "language": "python",
   "name": "python3"
  },
  "language_info": {
   "codemirror_mode": {
    "name": "ipython",
    "version": 3
   },
   "file_extension": ".py",
   "mimetype": "text/x-python",
   "name": "python",
   "nbconvert_exporter": "python",
   "pygments_lexer": "ipython3",
   "version": "3.7.3"
  }
 },
 "nbformat": 4,
 "nbformat_minor": 2
}
